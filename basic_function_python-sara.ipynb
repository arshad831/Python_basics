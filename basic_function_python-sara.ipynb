{
  "nbformat": 4,
  "nbformat_minor": 0,
  "metadata": {
    "colab": {
      "provenance": [],
      "authorship_tag": "ABX9TyMUmScAdlBNanxZ9Mc3Kvea",
      "include_colab_link": true
    },
    "kernelspec": {
      "name": "python3",
      "display_name": "Python 3"
    },
    "language_info": {
      "name": "python"
    }
  },
  "cells": [
    {
      "cell_type": "markdown",
      "metadata": {
        "id": "view-in-github",
        "colab_type": "text"
      },
      "source": [
        "<a href=\"https://colab.research.google.com/github/arshad831/Python_basics/blob/main/basic_function_python-sara.ipynb\" target=\"_parent\"><img src=\"https://colab.research.google.com/assets/colab-badge.svg\" alt=\"Open In Colab\"/></a>"
      ]
    },
    {
      "cell_type": "code",
      "execution_count": 17,
      "metadata": {
        "id": "UsIxTC9LCqqb"
      },
      "outputs": [],
      "source": [
        "# just returning the function without print\n",
        "def add(num1,num2,num3):\n",
        "  print(\"Number 1:\", num1)\n",
        "  print(\"Number 2:\", num2)\n",
        "  print(\"Number 3:\", num3)\n",
        "  addition = num1 + num2 + num3\n",
        "  return addition\n",
        ""
      ]
    },
    {
      "cell_type": "code",
      "source": [
        "#printing out the result\n",
        "def add(num1,num2,num3):\n",
        "  print(\"Number 1:\", num1)\n",
        "  print(\"Number 2:\", num2)\n",
        "  print(\"Number 3:\", num3)\n",
        "  addition = num1 + num2 + num3\n",
        "  print(\"Sum of Number 1 & Number 2 & Number 3: \",addition)\n",
        "\n",
        ""
      ],
      "metadata": {
        "id": "ch9j-L-mEt-1"
      },
      "execution_count": 19,
      "outputs": []
    },
    {
      "cell_type": "code",
      "source": [
        "add(3,4,4)"
      ],
      "metadata": {
        "colab": {
          "base_uri": "https://localhost:8080/"
        },
        "id": "7IWX_rKzDcfs",
        "outputId": "e3119607-5ab7-4e68-b476-a717c3b73f0a"
      },
      "execution_count": 20,
      "outputs": [
        {
          "output_type": "stream",
          "name": "stdout",
          "text": [
            "Number 1: 3\n",
            "Number 2: 4\n",
            "Number 3: 4\n",
            "Sum of Number 1 & Number 2 & Number 3:  11\n"
          ]
        }
      ]
    },
    {
      "cell_type": "code",
      "source": [
        "add(5,11)"
      ],
      "metadata": {
        "colab": {
          "base_uri": "https://localhost:8080/"
        },
        "id": "dyPon9AoD_UL",
        "outputId": "b5b821d9-7ca0-4544-b2b7-9af7c719f383"
      },
      "execution_count": 12,
      "outputs": [
        {
          "output_type": "stream",
          "name": "stdout",
          "text": [
            "Number 1: 5\n",
            "Number 2: 11\n"
          ]
        },
        {
          "output_type": "execute_result",
          "data": {
            "text/plain": [
              "16"
            ]
          },
          "metadata": {},
          "execution_count": 12
        }
      ]
    }
  ]
}