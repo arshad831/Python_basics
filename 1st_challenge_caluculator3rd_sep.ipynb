{
  "nbformat": 4,
  "nbformat_minor": 0,
  "metadata": {
    "colab": {
      "provenance": [],
      "authorship_tag": "ABX9TyOKpxLUx7ajh693K6G+iWAU",
      "include_colab_link": true
    },
    "kernelspec": {
      "name": "python3",
      "display_name": "Python 3"
    },
    "language_info": {
      "name": "python"
    }
  },
  "cells": [
    {
      "cell_type": "markdown",
      "metadata": {
        "id": "view-in-github",
        "colab_type": "text"
      },
      "source": [
        "<a href=\"https://colab.research.google.com/github/arshad831/Python_basics/blob/main/1st_challenge_caluculator3rd_sep.ipynb\" target=\"_parent\"><img src=\"https://colab.research.google.com/assets/colab-badge.svg\" alt=\"Open In Colab\"/></a>"
      ]
    },
    {
      "cell_type": "code",
      "execution_count": 1,
      "metadata": {
        "colab": {
          "base_uri": "https://localhost:8080/"
        },
        "id": "47AuOKJwsXPm",
        "outputId": "3b60a164-8629-4d24-8967-be72d359a207"
      },
      "outputs": [
        {
          "output_type": "stream",
          "name": "stdout",
          "text": [
            "Enter the operator(+,-,*,/):/\n",
            "Enter the 1st number:10\n",
            "Enter the 2nd number:3\n",
            "3.33\n"
          ]
        }
      ],
      "source": [
        "#simple calculator 2 numbers\n",
        "\n",
        "#input the parameters\n",
        "\n",
        "operator = input(\"Enter the operator(+,-,*,/):\")\n",
        "num1 = float(input(\"Enter the 1st number:\"))\n",
        "num2 = float(input(\"Enter the 2nd number:\"))\n",
        "\n",
        "## design the logic\n",
        "\n",
        "if operator == \"+\":\n",
        "    result = num1 + num2\n",
        "    print(round(result,2))\n",
        "\n",
        "elif operator == \"-\":\n",
        "    result = num1 - num2\n",
        "    print(round(result,2))\n",
        "\n",
        "elif operator == \"*\":\n",
        "    result = num1 * num2\n",
        "    print(round(result,2))\n",
        "\n",
        "elif operator == \"/\":\n",
        "    result = num1 / num2\n",
        "    print(round(result,2))\n",
        "\n",
        "# error handlling\n",
        "else:\n",
        "  print(f\"{operator} is not a valid operator\")\n",
        "\n"
      ]
    }
  ]
}