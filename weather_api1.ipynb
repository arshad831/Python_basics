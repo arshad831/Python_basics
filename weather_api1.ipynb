{
  "nbformat": 4,
  "nbformat_minor": 0,
  "metadata": {
    "colab": {
      "provenance": [],
      "authorship_tag": "ABX9TyME0FG6gdVD7bh5/Nje4OrJ",
      "include_colab_link": true
    },
    "kernelspec": {
      "name": "python3",
      "display_name": "Python 3"
    },
    "language_info": {
      "name": "python"
    }
  },
  "cells": [
    {
      "cell_type": "markdown",
      "metadata": {
        "id": "view-in-github",
        "colab_type": "text"
      },
      "source": [
        "<a href=\"https://colab.research.google.com/github/arshad831/Python_basics/blob/main/weather_api1.ipynb\" target=\"_parent\"><img src=\"https://colab.research.google.com/assets/colab-badge.svg\" alt=\"Open In Colab\"/></a>"
      ]
    },
    {
      "cell_type": "code",
      "execution_count": null,
      "metadata": {
        "colab": {
          "base_uri": "https://localhost:8080/"
        },
        "id": "Dr8W6OGdzrSJ",
        "outputId": "94091759-783e-4fe4-c618-071a7ddbb22e"
      },
      "outputs": [
        {
          "output_type": "stream",
          "name": "stdout",
          "text": [
            "{'coord': {'lon': 55.2708, 'lat': 25.2048}, 'weather': [{'id': 802, 'main': 'Clouds', 'description': 'scattered clouds', 'icon': '03d'}], 'base': 'stations', 'main': {'temp': 37.11, 'feels_like': 43.17, 'temp_min': 37.01, 'temp_max': 40.21, 'pressure': 1006, 'humidity': 44}, 'visibility': 8000, 'wind': {'speed': 5.66, 'deg': 280}, 'clouds': {'all': 25}, 'dt': 1685436151, 'sys': {'type': 1, 'id': 7537, 'country': 'AE', 'sunrise': 1685410161, 'sunset': 1685459026}, 'timezone': 14400, 'id': 290845, 'name': 'Ash Shindaghah', 'cod': 200}\n"
          ]
        }
      ],
      "source": [
        "import requests\n",
        "response = requests.get(\"https://api.openweathermap.org/data/2.5/weather?lat=25.204&lon=55.27&appid=79007029562c2ab46617d801d8018750&units=metric\")\n",
        "print(response.json())"
      ]
    },
    {
      "cell_type": "code",
      "source": [
        "import requests\n",
        "\n",
        "def get_weather(city):\n",
        "   url = f\"https://api.openweathermap.org/data/2.5/weather?q={city}&appid=79007029562c2ab46617d801d8018750&units=metric\"\n",
        "\n",
        "   try:\n",
        "       response= requests.get(url)\n",
        "       weather_data = response.json()\n",
        "\n",
        "       temperature = weather_data[\"main\"][\"temp\"]\n",
        "       humidity = weather_data[\"main\"][\"humidity\"]\n",
        "       max_temp = weather_data[\"main\"][\"temp_max\"]\n",
        "       min_temp = weather_data[\"main\"][\"temp_min\"]\n",
        "\n",
        "\n",
        "       print(f\"Weather in {city}:\")\n",
        "       print(f\"Temperature {temperature}°C:\")\n",
        "       print(f\"Humidity : {humidity}%\")\n",
        "       print(f\"Max Temperature: {max_temp}°C:\")\n",
        "       print(f\"Min Temperature: {min_temp}°C:\")\n",
        "\n",
        "   except requests.exceptions.RequestException:\n",
        "        print(\"Error occured\")\n",
        "\n",
        "\n",
        "#usage\n",
        "city_name = input(\"Enter the name of city:\")\n",
        "get_weather(city_name)"
      ],
      "metadata": {
        "colab": {
          "base_uri": "https://localhost:8080/"
        },
        "id": "SGkcxKbv2eSY",
        "outputId": "40afc089-5b69-4f02-91f8-75c7b9dde727"
      },
      "execution_count": null,
      "outputs": [
        {
          "output_type": "stream",
          "name": "stdout",
          "text": [
            "Enter the name of city:New York\n",
            "Weather in New York:\n",
            "Temperature 12.53°C:\n",
            "Humidity : 69%\n",
            "Max Temperature: 14.44°C:\n",
            "Min Temperature: 9.33°C:\n"
          ]
        }
      ]
    },
    {
      "cell_type": "code",
      "source": [
        "import pandas as pd\n",
        "\n",
        "test = pd.read_csv(\"https://gist.githubusercontent.com/netj/8836201/raw/6f9306ad21398ea43cba4f7d537619d0e07d5ae3/iris.csv\")"
      ],
      "metadata": {
        "id": "84_FZKm3jFUq"
      },
      "execution_count": null,
      "outputs": []
    },
    {
      "cell_type": "code",
      "source": [
        "import polars as pl"
      ],
      "metadata": {
        "id": "OTYdkxQoiC8W"
      },
      "execution_count": null,
      "outputs": []
    },
    {
      "cell_type": "code",
      "source": [
        "q = (\n",
        "    pl.scan_csv(\"https://gist.githubusercontent.com/netj/8836201/raw/6f9306ad21398ea43cba4f7d537619d0e07d5ae3/iris.csv\")\n",
        "    .filter(pl.col(\"sepal_length\") > 5)\n",
        "    .groupby(\"species\")\n",
        "    .agg(pl.all().sum())\n",
        ")\n",
        "\n",
        "df = q.collect()"
      ],
      "metadata": {
        "colab": {
          "base_uri": "https://localhost:8080/",
          "height": 415
        },
        "id": "xakrVLTwiLEF",
        "outputId": "c3912613-1bd1-4720-904f-a99ec6e962fa"
      },
      "execution_count": null,
      "outputs": [
        {
          "output_type": "error",
          "ename": "OSError",
          "evalue": "ignored",
          "traceback": [
            "\u001b[0;31m---------------------------------------------------------------------------\u001b[0m",
            "\u001b[0;31mOSError\u001b[0m                                   Traceback (most recent call last)",
            "\u001b[0;32m<ipython-input-3-4d5456906c5d>\u001b[0m in \u001b[0;36m<cell line: 2>\u001b[0;34m()\u001b[0m\n\u001b[1;32m      1\u001b[0m q = (\n\u001b[0;32m----> 2\u001b[0;31m     \u001b[0mpl\u001b[0m\u001b[0;34m.\u001b[0m\u001b[0mscan_csv\u001b[0m\u001b[0;34m(\u001b[0m\u001b[0;34m\"https://gist.githubusercontent.com/netj/8836201/raw/6f9306ad21398ea43cba4f7d537619d0e07d5ae3/iris.csv\"\u001b[0m\u001b[0;34m)\u001b[0m\u001b[0;34m\u001b[0m\u001b[0;34m\u001b[0m\u001b[0m\n\u001b[0m\u001b[1;32m      3\u001b[0m     \u001b[0;34m.\u001b[0m\u001b[0mfilter\u001b[0m\u001b[0;34m(\u001b[0m\u001b[0mpl\u001b[0m\u001b[0;34m.\u001b[0m\u001b[0mcol\u001b[0m\u001b[0;34m(\u001b[0m\u001b[0;34m\"sepal_length\"\u001b[0m\u001b[0;34m)\u001b[0m \u001b[0;34m>\u001b[0m \u001b[0;36m5\u001b[0m\u001b[0;34m)\u001b[0m\u001b[0;34m\u001b[0m\u001b[0;34m\u001b[0m\u001b[0m\n\u001b[1;32m      4\u001b[0m     \u001b[0;34m.\u001b[0m\u001b[0mgroupby\u001b[0m\u001b[0;34m(\u001b[0m\u001b[0;34m\"species\"\u001b[0m\u001b[0;34m)\u001b[0m\u001b[0;34m\u001b[0m\u001b[0;34m\u001b[0m\u001b[0m\n\u001b[1;32m      5\u001b[0m     \u001b[0;34m.\u001b[0m\u001b[0magg\u001b[0m\u001b[0;34m(\u001b[0m\u001b[0mpl\u001b[0m\u001b[0;34m.\u001b[0m\u001b[0mall\u001b[0m\u001b[0;34m(\u001b[0m\u001b[0;34m)\u001b[0m\u001b[0;34m.\u001b[0m\u001b[0msum\u001b[0m\u001b[0;34m(\u001b[0m\u001b[0;34m)\u001b[0m\u001b[0;34m)\u001b[0m\u001b[0;34m\u001b[0m\u001b[0;34m\u001b[0m\u001b[0m\n",
            "\u001b[0;32m/usr/local/lib/python3.10/dist-packages/polars/io/csv/functions.py\u001b[0m in \u001b[0;36mscan_csv\u001b[0;34m(source, has_header, separator, comment_char, quote_char, skip_rows, dtypes, null_values, missing_utf8_is_empty_string, ignore_errors, cache, with_column_names, infer_schema_length, n_rows, encoding, low_memory, rechunk, skip_rows_after_header, row_count_name, row_count_offset, try_parse_dates, eol_char, new_columns)\u001b[0m\n\u001b[1;32m    874\u001b[0m         \u001b[0msource\u001b[0m \u001b[0;34m=\u001b[0m \u001b[0mnormalise_filepath\u001b[0m\u001b[0;34m(\u001b[0m\u001b[0msource\u001b[0m\u001b[0;34m)\u001b[0m\u001b[0;34m\u001b[0m\u001b[0;34m\u001b[0m\u001b[0m\n\u001b[1;32m    875\u001b[0m \u001b[0;34m\u001b[0m\u001b[0m\n\u001b[0;32m--> 876\u001b[0;31m     return pli.LazyFrame._scan_csv(\n\u001b[0m\u001b[1;32m    877\u001b[0m         \u001b[0msource\u001b[0m\u001b[0;34m,\u001b[0m\u001b[0;34m\u001b[0m\u001b[0;34m\u001b[0m\u001b[0m\n\u001b[1;32m    878\u001b[0m         \u001b[0mhas_header\u001b[0m\u001b[0;34m=\u001b[0m\u001b[0mhas_header\u001b[0m\u001b[0;34m,\u001b[0m\u001b[0;34m\u001b[0m\u001b[0;34m\u001b[0m\u001b[0m\n",
            "\u001b[0;32m/usr/local/lib/python3.10/dist-packages/polars/lazyframe/frame.py\u001b[0m in \u001b[0;36m_scan_csv\u001b[0;34m(cls, source, has_header, separator, comment_char, quote_char, skip_rows, dtypes, null_values, missing_utf8_is_empty_string, ignore_errors, cache, with_column_names, infer_schema_length, n_rows, encoding, low_memory, rechunk, skip_rows_after_header, row_count_name, row_count_offset, try_parse_dates, eol_char)\u001b[0m\n\u001b[1;32m    347\u001b[0m \u001b[0;34m\u001b[0m\u001b[0m\n\u001b[1;32m    348\u001b[0m         \u001b[0mself\u001b[0m \u001b[0;34m=\u001b[0m \u001b[0mcls\u001b[0m\u001b[0;34m.\u001b[0m\u001b[0m__new__\u001b[0m\u001b[0;34m(\u001b[0m\u001b[0mcls\u001b[0m\u001b[0;34m)\u001b[0m\u001b[0;34m\u001b[0m\u001b[0;34m\u001b[0m\u001b[0m\n\u001b[0;32m--> 349\u001b[0;31m         self._ldf = PyLazyFrame.new_from_csv(\n\u001b[0m\u001b[1;32m    350\u001b[0m             \u001b[0msource\u001b[0m\u001b[0;34m,\u001b[0m\u001b[0;34m\u001b[0m\u001b[0;34m\u001b[0m\u001b[0m\n\u001b[1;32m    351\u001b[0m             \u001b[0mseparator\u001b[0m\u001b[0;34m,\u001b[0m\u001b[0;34m\u001b[0m\u001b[0;34m\u001b[0m\u001b[0m\n",
            "\u001b[0;31mOSError\u001b[0m: No such file or directory (os error 2)"
          ]
        }
      ]
    }
  ]
}