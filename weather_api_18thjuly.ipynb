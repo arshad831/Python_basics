{
  "nbformat": 4,
  "nbformat_minor": 0,
  "metadata": {
    "colab": {
      "provenance": [],
      "authorship_tag": "ABX9TyOax1TS4hQOf+WpDCf5z5+D",
      "include_colab_link": true
    },
    "kernelspec": {
      "name": "python3",
      "display_name": "Python 3"
    },
    "language_info": {
      "name": "python"
    }
  },
  "cells": [
    {
      "cell_type": "markdown",
      "metadata": {
        "id": "view-in-github",
        "colab_type": "text"
      },
      "source": [
        "<a href=\"https://colab.research.google.com/github/arshad831/Python_basics/blob/main/weather_api_18thjuly.ipynb\" target=\"_parent\"><img src=\"https://colab.research.google.com/assets/colab-badge.svg\" alt=\"Open In Colab\"/></a>"
      ]
    },
    {
      "cell_type": "code",
      "source": [
        "import requests\n",
        "response = requests.get(\"https://api.openweathermap.org/data/2.5/weather?q=Dubai&appid=79007029562c2ab46617d801d8018750&units=metric\")\n",
        "print(response.json())"
      ],
      "metadata": {
        "id": "O8qPx9TOc28r",
        "outputId": "e4bd8aa6-d388-4423-c63a-114071e4a268",
        "colab": {
          "base_uri": "https://localhost:8080/"
        }
      },
      "execution_count": null,
      "outputs": [
        {
          "output_type": "stream",
          "name": "stdout",
          "text": [
            "{'coord': {'lon': 55.3047, 'lat': 25.2582}, 'weather': [{'id': 800, 'main': 'Clear', 'description': 'clear sky', 'icon': '01d'}], 'base': 'stations', 'main': {'temp': 42.77, 'feels_like': 46.57, 'temp_min': 42.14, 'temp_max': 42.96, 'pressure': 997, 'humidity': 26}, 'visibility': 10000, 'wind': {'speed': 5.14, 'deg': 270}, 'clouds': {'all': 0}, 'dt': 1689669092, 'sys': {'type': 1, 'id': 7537, 'country': 'AE', 'sunrise': 1689644327, 'sunset': 1689693044}, 'timezone': 14400, 'id': 292223, 'name': 'Dubai', 'cod': 200}\n"
          ]
        }
      ]
    },
    {
      "cell_type": "code",
      "source": [
        "import requests\n",
        "\n",
        "def get_weather(city):\n",
        "   url = f\"https://api.openweathermap.org/data/2.5/weather?q={city}&appid=79007029562c2ab46617d801d8018750&units=metric\"\n",
        "\n",
        "   try:\n",
        "       response= requests.get(url)\n",
        "       weather_data = response.json()\n",
        "\n",
        "       temperature = weather_data[\"main\"][\"temp\"]\n",
        "       humidity = weather_data[\"main\"][\"humidity\"]\n",
        "       max_temp = weather_data[\"main\"][\"temp_max\"]\n",
        "       min_temp = weather_data[\"main\"][\"temp_min\"]\n",
        "       wind_speed = weather_data[\"wind\"][\"speed\"]\n",
        "\n",
        "\n",
        "       print(f\"Weather in {city}:\")\n",
        "       print(f\"Temperature {temperature}°C:\")\n",
        "       print(f\"Humidity : {humidity}%\")\n",
        "       print(f\"Max Temperature: {max_temp}°C:\")\n",
        "       print(f\"Min Temperature: {min_temp}°C:\")\n",
        "       print(f\"Wind Speed: {wind_speed} m/s:\")\n",
        "\n",
        "   except requests.exceptions.RequestException:\n",
        "        print(\"Error occured\")\n",
        "\n",
        "\n",
        "#usage\n",
        "city_name = input(\"Enter the name of city:\")\n",
        "get_weather(city_name)"
      ],
      "metadata": {
        "id": "SGkcxKbv2eSY"
      },
      "execution_count": null,
      "outputs": []
    },
    {
      "cell_type": "code",
      "source": [],
      "metadata": {
        "id": "T1lrCC6qLfL4"
      },
      "execution_count": null,
      "outputs": []
    },
    {
      "cell_type": "code",
      "source": [
        "pip install gradio\n",
        "#https://www.gradio.app/guides/quickstart"
      ],
      "metadata": {
        "id": "oXekoPtnibJ2"
      },
      "execution_count": null,
      "outputs": []
    },
    {
      "cell_type": "code",
      "source": [
        "import gradio as gr\n",
        "import requests\n",
        "\n",
        "def get_weather(city):\n",
        "    url = f\"https://api.openweathermap.org/data/2.5/weather?q={city}&appid=79007029562c2ab46617d801d8018750&units=metric\"\n",
        "    response = requests.get(url)\n",
        "    data = response.json()\n",
        "    if data[\"cod\"] == 200:\n",
        "        temp = data[\"main\"][\"temp\"]\n",
        "        description = data[\"weather\"][0][\"description\"]\n",
        "        return f\"The current temperature in {city} is {temp}°C with {description}.\"\n",
        "    else:\n",
        "        return \"Sorry, I couldn't find weather information for that city.\"\n",
        "\n",
        "iface = gr.Interface(fn=get_weather, inputs=\"text\", outputs=\"text\")\n",
        "iface.launch()\n"
      ],
      "metadata": {
        "id": "MyKDmQYxiZ6P",
        "outputId": "ce1aa238-b736-4a2f-84f7-e682d7f7739a",
        "colab": {
          "base_uri": "https://localhost:8080/",
          "height": 616
        }
      },
      "execution_count": null,
      "outputs": [
        {
          "output_type": "stream",
          "name": "stdout",
          "text": [
            "Colab notebook detected. To show errors in colab notebook, set debug=True in launch()\n",
            "Note: opening Chrome Inspector may crash demo inside Colab notebooks.\n",
            "\n",
            "To create a public link, set `share=True` in `launch()`.\n"
          ]
        },
        {
          "output_type": "display_data",
          "data": {
            "text/plain": [
              "<IPython.core.display.Javascript object>"
            ],
            "application/javascript": [
              "(async (port, path, width, height, cache, element) => {\n",
              "                        if (!google.colab.kernel.accessAllowed && !cache) {\n",
              "                            return;\n",
              "                        }\n",
              "                        element.appendChild(document.createTextNode(''));\n",
              "                        const url = await google.colab.kernel.proxyPort(port, {cache});\n",
              "\n",
              "                        const external_link = document.createElement('div');\n",
              "                        external_link.innerHTML = `\n",
              "                            <div style=\"font-family: monospace; margin-bottom: 0.5rem\">\n",
              "                                Running on <a href=${new URL(path, url).toString()} target=\"_blank\">\n",
              "                                    https://localhost:${port}${path}\n",
              "                                </a>\n",
              "                            </div>\n",
              "                        `;\n",
              "                        element.appendChild(external_link);\n",
              "\n",
              "                        const iframe = document.createElement('iframe');\n",
              "                        iframe.src = new URL(path, url).toString();\n",
              "                        iframe.height = height;\n",
              "                        iframe.allow = \"autoplay; camera; microphone; clipboard-read; clipboard-write;\"\n",
              "                        iframe.width = width;\n",
              "                        iframe.style.border = 0;\n",
              "                        element.appendChild(iframe);\n",
              "                    })(7860, \"/\", \"100%\", 500, false, window.element)"
            ]
          },
          "metadata": {}
        },
        {
          "output_type": "execute_result",
          "data": {
            "text/plain": []
          },
          "metadata": {},
          "execution_count": 4
        }
      ]
    }
  ]
}