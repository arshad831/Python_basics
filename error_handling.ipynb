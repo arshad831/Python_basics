{
  "nbformat": 4,
  "nbformat_minor": 0,
  "metadata": {
    "colab": {
      "provenance": [],
      "authorship_tag": "ABX9TyN1iTKLF+V3nr2QLco4tT2z",
      "include_colab_link": true
    },
    "kernelspec": {
      "name": "python3",
      "display_name": "Python 3"
    },
    "language_info": {
      "name": "python"
    }
  },
  "cells": [
    {
      "cell_type": "markdown",
      "metadata": {
        "id": "view-in-github",
        "colab_type": "text"
      },
      "source": [
        "<a href=\"https://colab.research.google.com/github/arshad831/Python_basics/blob/main/error_handling.ipynb\" target=\"_parent\"><img src=\"https://colab.research.google.com/assets/colab-badge.svg\" alt=\"Open In Colab\"/></a>"
      ]
    },
    {
      "cell_type": "code",
      "source": [
        "try:\n",
        "  numerator = 10\n",
        "  denominator = 3\n",
        "  result = numerator / denominator\n",
        "except ZeroDivisionError:\n",
        "  print(\"Error: Division by zero is not allowed.\")\n",
        "else:\n",
        "  print(result)"
      ],
      "metadata": {
        "colab": {
          "base_uri": "https://localhost:8080/"
        },
        "id": "pYBxThlFQdbm",
        "outputId": "bd7d4fb2-8c31-4b9a-9274-f644ef733039"
      },
      "execution_count": 9,
      "outputs": [
        {
          "output_type": "stream",
          "name": "stdout",
          "text": [
            "3.3333333333333335\n"
          ]
        }
      ]
    },
    {
      "cell_type": "code",
      "source": [
        "try:\n",
        "    num = int(input(\"Enter a number: \"))\n",
        "except ValueError:\n",
        "    print(\"Error: Please enter a valid number.\")"
      ],
      "metadata": {
        "colab": {
          "base_uri": "https://localhost:8080/"
        },
        "id": "P1g3r4bKQpe1",
        "outputId": "d8059704-0a20-409c-d139-73dc2b1acb78"
      },
      "execution_count": 8,
      "outputs": [
        {
          "name": "stdout",
          "output_type": "stream",
          "text": [
            "Enter a number: 1\n"
          ]
        }
      ]
    },
    {
      "cell_type": "code",
      "execution_count": 14,
      "metadata": {
        "colab": {
          "base_uri": "https://localhost:8080/"
        },
        "id": "TOrkCxZoQZ4w",
        "outputId": "48b3161c-095d-48f4-d8e1-1b65b264cd5c"
      },
      "outputs": [
        {
          "output_type": "stream",
          "name": "stdout",
          "text": [
            "Enter the top number: 100\n",
            "Enter the bottom number: 3\n",
            "Division attempt has been made.\n",
            "33.333333333333336\n"
          ]
        },
        {
          "output_type": "execute_result",
          "data": {
            "text/plain": [
              "2"
            ]
          },
          "metadata": {},
          "execution_count": 14
        }
      ],
      "source": [
        "def divide_numbers():\n",
        "    try:\n",
        "        numerator = int(input(\"Enter the top number: \"))\n",
        "        denominator = int(input(\"Enter the bottom number: \"))\n",
        "        result = numerator / denominator\n",
        "    except ZeroDivisionError:\n",
        "        return \"Oops! You can't divide by zero.\"\n",
        "    except ValueError:\n",
        "        return \"Oops! Please enter valid numbers.\"\n",
        "    finally:\n",
        "        print(\"Division attempt has been made.\")\n",
        "\n",
        "    if 'result' in locals():\n",
        "        return result\n",
        "    else:\n",
        "        return \"No result due to error.\"\n",
        "\n",
        "print(divide_numbers())\n"
      ]
    },
    {
      "cell_type": "code",
      "source": [
        "def divide_number():\n",
        "  try:\n",
        "    n = int(input(\"Enter the numerator:\"))\n",
        "    d = int(input(\"Enter the Denomenator:\"))\n",
        "    result = n/d\n",
        "  except ZeroDivisionError:\n",
        "    return \"You Can't Divide by zero\"\n",
        "  except ValueError:\n",
        "    return \"Enter a valid number\"\n",
        "  finally:\n",
        "    print(\"Operation Completed\")\n",
        "\n",
        "  if 'result' in locals():\n",
        "    return result\n",
        "  else:\n",
        "    return \"No results to be retured\"\n",
        "\n",
        "\n",
        "print(divide_number())"
      ],
      "metadata": {
        "colab": {
          "base_uri": "https://localhost:8080/"
        },
        "id": "wDQcMS0XSjRB",
        "outputId": "f554c0cc-5c0e-4416-d859-2f62891fc613"
      },
      "execution_count": 6,
      "outputs": [
        {
          "output_type": "stream",
          "name": "stdout",
          "text": [
            "Enter the numerator:10\n",
            "Enter the Denomenator:2\n",
            "Operation Completed\n",
            "5.0\n"
          ]
        }
      ]
    }
  ]
}