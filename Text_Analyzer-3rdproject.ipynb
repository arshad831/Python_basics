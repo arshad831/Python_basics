{
  "nbformat": 4,
  "nbformat_minor": 0,
  "metadata": {
    "colab": {
      "provenance": [],
      "authorship_tag": "ABX9TyNCck/vgXzfWbuZFTNxL+kg",
      "include_colab_link": true
    },
    "kernelspec": {
      "name": "python3",
      "display_name": "Python 3"
    },
    "language_info": {
      "name": "python"
    }
  },
  "cells": [
    {
      "cell_type": "markdown",
      "metadata": {
        "id": "view-in-github",
        "colab_type": "text"
      },
      "source": [
        "<a href=\"https://colab.research.google.com/github/arshad831/Python_basics/blob/main/Text_Analyzer-3rdproject.ipynb\" target=\"_parent\"><img src=\"https://colab.research.google.com/assets/colab-badge.svg\" alt=\"Open In Colab\"/></a>"
      ]
    },
    {
      "cell_type": "code",
      "source": [
        "#gettysburg address\n",
        "text= \"Fourscore and seven years ago our fathers brought forth, on this continent, a new nation, conceived in liberty, and dedicated to the proposition that all men are created equal. Now we are engaged in a great civil war, testing whether that nation, or any nation so conceived, and so dedicated, can long endure. We are met on a great battle-field of that war. We have come to dedicate a portion of that field, as a final resting-place for those who here gave their lives, that that nation might live. It is altogether fitting and proper that we should do this. But, in a larger sense, we cannot dedicate, we cannot consecrate—we cannot hallow—this ground. The brave men, living and dead, who struggled here, have consecrated it far above our poor power to add or detract. The world will little note, nor long remember what we say here, but it can never forget what they did here. It is for us the living, rather, to be dedicated here to the unfinished work which they who fought here have thus far so nobly advanced. It is rather for us to be here dedicated to the great task remaining before us—that from these honored dead we take increased devotion to that cause for which they here gave the last full measure of devotion—that we here highly resolve that these dead shall not have died in vain—that this nation, under God, shall have a new birth of freedom, and that government of the people, by the people, for the people, shall not perish from the earth.\""
      ],
      "metadata": {
        "id": "22ORduOp_mXt"
      },
      "execution_count": null,
      "outputs": []
    },
    {
      "cell_type": "code",
      "source": [
        "text"
      ],
      "metadata": {
        "colab": {
          "base_uri": "https://localhost:8080/",
          "height": 127
        },
        "id": "6der7FGi_7_t",
        "outputId": "8b46a153-b90d-43ce-e0bb-bc0cc00de3eb"
      },
      "execution_count": null,
      "outputs": [
        {
          "output_type": "execute_result",
          "data": {
            "text/plain": [
              "'Fourscore and seven years ago our fathers brought forth, on this continent, a new nation, conceived in liberty, and dedicated to the proposition that all men are created equal. Now we are engaged in a great civil war, testing whether that nation, or any nation so conceived, and so dedicated, can long endure. We are met on a great battle-field of that war. We have come to dedicate a portion of that field, as a final resting-place for those who here gave their lives, that that nation might live. It is altogether fitting and proper that we should do this. But, in a larger sense, we cannot dedicate, we cannot consecrate—we cannot hallow—this ground. The brave men, living and dead, who struggled here, have consecrated it far above our poor power to add or detract. The world will little note, nor long remember what we say here, but it can never forget what they did here. It is for us the living, rather, to be dedicated here to the unfinished work which they who fought here have thus far so nobly advanced. It is rather for us to be here dedicated to the great task remaining before us—that from these honored dead we take increased devotion to that cause for which they here gave the last full measure of devotion—that we here highly resolve that these dead shall not have died in vain—that this nation, under God, shall have a new birth of freedom, and that government of the people, by the people, for the people, shall not perish from the earth.'"
            ],
            "application/vnd.google.colaboratory.intrinsic+json": {
              "type": "string"
            }
          },
          "metadata": {},
          "execution_count": 36
        }
      ]
    },
    {
      "cell_type": "code",
      "source": [
        "print(len(text))"
      ],
      "metadata": {
        "colab": {
          "base_uri": "https://localhost:8080/"
        },
        "id": "BlLnwkPDABZr",
        "outputId": "297b5604-ad3a-42c3-d63e-fbebcf2aba09"
      },
      "execution_count": null,
      "outputs": [
        {
          "output_type": "stream",
          "name": "stdout",
          "text": [
            "1457\n"
          ]
        }
      ]
    },
    {
      "cell_type": "code",
      "source": [
        "print(text.split())"
      ],
      "metadata": {
        "colab": {
          "base_uri": "https://localhost:8080/"
        },
        "id": "DlJTvpmaAF3F",
        "outputId": "b39d5c53-a5d1-4f27-8cd6-4955559b0487"
      },
      "execution_count": null,
      "outputs": [
        {
          "output_type": "stream",
          "name": "stdout",
          "text": [
            "['Fourscore', 'and', 'seven', 'years', 'ago', 'our', 'fathers', 'brought', 'forth,', 'on', 'this', 'continent,', 'a', 'new', 'nation,', 'conceived', 'in', 'liberty,', 'and', 'dedicated', 'to', 'the', 'proposition', 'that', 'all', 'men', 'are', 'created', 'equal.', 'Now', 'we', 'are', 'engaged', 'in', 'a', 'great', 'civil', 'war,', 'testing', 'whether', 'that', 'nation,', 'or', 'any', 'nation', 'so', 'conceived,', 'and', 'so', 'dedicated,', 'can', 'long', 'endure.', 'We', 'are', 'met', 'on', 'a', 'great', 'battle-field', 'of', 'that', 'war.', 'We', 'have', 'come', 'to', 'dedicate', 'a', 'portion', 'of', 'that', 'field,', 'as', 'a', 'final', 'resting-place', 'for', 'those', 'who', 'here', 'gave', 'their', 'lives,', 'that', 'that', 'nation', 'might', 'live.', 'It', 'is', 'altogether', 'fitting', 'and', 'proper', 'that', 'we', 'should', 'do', 'this.', 'But,', 'in', 'a', 'larger', 'sense,', 'we', 'cannot', 'dedicate,', 'we', 'cannot', 'consecrate—we', 'cannot', 'hallow—this', 'ground.', 'The', 'brave', 'men,', 'living', 'and', 'dead,', 'who', 'struggled', 'here,', 'have', 'consecrated', 'it', 'far', 'above', 'our', 'poor', 'power', 'to', 'add', 'or', 'detract.', 'The', 'world', 'will', 'little', 'note,', 'nor', 'long', 'remember', 'what', 'we', 'say', 'here,', 'but', 'it', 'can', 'never', 'forget', 'what', 'they', 'did', 'here.', 'It', 'is', 'for', 'us', 'the', 'living,', 'rather,', 'to', 'be', 'dedicated', 'here', 'to', 'the', 'unfinished', 'work', 'which', 'they', 'who', 'fought', 'here', 'have', 'thus', 'far', 'so', 'nobly', 'advanced.', 'It', 'is', 'rather', 'for', 'us', 'to', 'be', 'here', 'dedicated', 'to', 'the', 'great', 'task', 'remaining', 'before', 'us—that', 'from', 'these', 'honored', 'dead', 'we', 'take', 'increased', 'devotion', 'to', 'that', 'cause', 'for', 'which', 'they', 'here', 'gave', 'the', 'last', 'full', 'measure', 'of', 'devotion—that', 'we', 'here', 'highly', 'resolve', 'that', 'these', 'dead', 'shall', 'not', 'have', 'died', 'in', 'vain—that', 'this', 'nation,', 'under', 'God,', 'shall', 'have', 'a', 'new', 'birth', 'of', 'freedom,', 'and', 'that', 'government', 'of', 'the', 'people,', 'by', 'the', 'people,', 'for', 'the', 'people,', 'shall', 'not', 'perish', 'from', 'the', 'earth.']\n"
          ]
        }
      ]
    },
    {
      "cell_type": "code",
      "source": [
        "print(len(text.split()))"
      ],
      "metadata": {
        "colab": {
          "base_uri": "https://localhost:8080/"
        },
        "id": "XXEQ3ukQANrH",
        "outputId": "73edca01-569d-4293-d5e0-c9e029357a73"
      },
      "execution_count": null,
      "outputs": [
        {
          "output_type": "stream",
          "name": "stdout",
          "text": [
            "7\n"
          ]
        }
      ]
    },
    {
      "cell_type": "code",
      "source": [
        "text = \"a b c a a b C\""
      ],
      "metadata": {
        "id": "vwBah5QUAkaj"
      },
      "execution_count": 2,
      "outputs": []
    },
    {
      "cell_type": "code",
      "source": [
        "print(text.split())"
      ],
      "metadata": {
        "colab": {
          "base_uri": "https://localhost:8080/"
        },
        "id": "puSeCH2OBuFV",
        "outputId": "6af5709b-ee96-4d30-f48e-31309665bb38"
      },
      "execution_count": null,
      "outputs": [
        {
          "output_type": "stream",
          "name": "stdout",
          "text": [
            "['a', 'b', 'c', 'a', 'a', 'b', 'C']\n"
          ]
        }
      ]
    },
    {
      "cell_type": "markdown",
      "source": [
        "Create a variable that will hold our dictionary. We'll call it word_count. And we're going to set this equal to an empty dictionary. And we do that with the curly brackets. Next, because text.split gives us back a list. We are going to use a for-loop to go through that list. Finally Print all the words in the List\n"
      ],
      "metadata": {
        "id": "v6Q6fOdBGBxy"
      }
    },
    {
      "cell_type": "code",
      "source": [
        "word_count = {}\n",
        "\n",
        "for word in text.split():\n",
        "  print(word)"
      ],
      "metadata": {
        "id": "rAVWHqYsCX39"
      },
      "execution_count": null,
      "outputs": []
    },
    {
      "cell_type": "markdown",
      "source": [
        "Create a variable that will hold our dictionary. We'll call it word_count. And we're going to set this equal to an empty dictionary. And we do that with the curly brackets. Next, because text.split gives us back a list. We are going to use a for-loop to go through that list"
      ],
      "metadata": {
        "id": "nOXYtdyFFzqw"
      }
    },
    {
      "cell_type": "code",
      "source": [
        "word_count = {}\n",
        "\n",
        "for word in text.split():\n",
        "\n",
        "  word_count[word] = 1\n",
        "\n",
        "print(word_count)"
      ],
      "metadata": {
        "colab": {
          "base_uri": "https://localhost:8080/"
        },
        "id": "M1G9xu_5E1Em",
        "outputId": "b3985927-1dc4-4ae6-f0b3-9c9d81807ebd"
      },
      "execution_count": null,
      "outputs": [
        {
          "output_type": "stream",
          "name": "stdout",
          "text": [
            "{'a': 1, 'b': 1, 'c': 1}\n"
          ]
        }
      ]
    },
    {
      "cell_type": "markdown",
      "source": [
        "Now we are going do to add a conditional if statement to check and see if a word is inside of our dictionary already. We're saying, does this word exist in the word count dictionary? \n",
        "So what we could do is we could say word_count at word is equal to word_count at word plus one,"
      ],
      "metadata": {
        "id": "rY4g77c3LlOF"
      }
    },
    {
      "cell_type": "code",
      "source": [
        "word_count = {}\n",
        "\n",
        "for word in text.lower().split():\n",
        "  if word in word_count:\n",
        "    word_count[word] += 1\n",
        "  else:\n",
        "    word_count[word] = 1  \n",
        "\n",
        "print(word_count)"
      ],
      "metadata": {
        "colab": {
          "base_uri": "https://localhost:8080/"
        },
        "id": "baJKIs7pFnX5",
        "outputId": "e425099d-0bc1-4f66-f46f-6bbbfea58ec7"
      },
      "execution_count": null,
      "outputs": [
        {
          "output_type": "stream",
          "name": "stdout",
          "text": [
            "{'fourscore': 1, 'and': 6, 'seven': 1, 'years': 1, 'ago': 1, 'our': 2, 'fathers': 1, 'brought': 1, 'forth,': 1, 'on': 2, 'this': 2, 'continent,': 1, 'a': 7, 'new': 2, 'nation,': 3, 'conceived': 1, 'in': 4, 'liberty,': 1, 'dedicated': 3, 'to': 8, 'the': 11, 'proposition': 1, 'that': 10, 'all': 1, 'men': 1, 'are': 3, 'created': 1, 'equal.': 1, 'now': 1, 'we': 9, 'engaged': 1, 'great': 3, 'civil': 1, 'war,': 1, 'testing': 1, 'whether': 1, 'or': 2, 'any': 1, 'nation': 2, 'so': 3, 'conceived,': 1, 'dedicated,': 1, 'can': 2, 'long': 2, 'endure.': 1, 'met': 1, 'battle-field': 1, 'of': 5, 'war.': 1, 'have': 5, 'come': 1, 'dedicate': 1, 'portion': 1, 'field,': 1, 'as': 1, 'final': 1, 'resting-place': 1, 'for': 5, 'those': 1, 'who': 3, 'here': 6, 'gave': 2, 'their': 1, 'lives,': 1, 'might': 1, 'live.': 1, 'it': 5, 'is': 3, 'altogether': 1, 'fitting': 1, 'proper': 1, 'should': 1, 'do': 1, 'this.': 1, 'but,': 1, 'larger': 1, 'sense,': 1, 'cannot': 3, 'dedicate,': 1, 'consecrate—we': 1, 'hallow—this': 1, 'ground.': 1, 'brave': 1, 'men,': 1, 'living': 1, 'dead,': 1, 'struggled': 1, 'here,': 2, 'consecrated': 1, 'far': 2, 'above': 1, 'poor': 1, 'power': 1, 'add': 1, 'detract.': 1, 'world': 1, 'will': 1, 'little': 1, 'note,': 1, 'nor': 1, 'remember': 1, 'what': 2, 'say': 1, 'but': 1, 'never': 1, 'forget': 1, 'they': 3, 'did': 1, 'here.': 1, 'us': 2, 'living,': 1, 'rather,': 1, 'be': 2, 'unfinished': 1, 'work': 1, 'which': 2, 'fought': 1, 'thus': 1, 'nobly': 1, 'advanced.': 1, 'rather': 1, 'task': 1, 'remaining': 1, 'before': 1, 'us—that': 1, 'from': 2, 'these': 2, 'honored': 1, 'dead': 2, 'take': 1, 'increased': 1, 'devotion': 1, 'cause': 1, 'last': 1, 'full': 1, 'measure': 1, 'devotion—that': 1, 'highly': 1, 'resolve': 1, 'shall': 3, 'not': 2, 'died': 1, 'vain—that': 1, 'under': 1, 'god,': 1, 'birth': 1, 'freedom,': 1, 'government': 1, 'people,': 3, 'by': 1, 'perish': 1, 'earth.': 1}\n"
          ]
        }
      ]
    },
    {
      "cell_type": "code",
      "source": [
        "\n",
        "sorted_text = dict(sorted(word_count.items(), key=lambda item: item[1], reverse=True))\n",
        "\n",
        "print(sorted_text)\n"
      ],
      "metadata": {
        "colab": {
          "base_uri": "https://localhost:8080/"
        },
        "id": "S3hIZGKbNXBr",
        "outputId": "97154e7d-a413-47ef-a08a-333ff8760f01"
      },
      "execution_count": null,
      "outputs": [
        {
          "output_type": "stream",
          "name": "stdout",
          "text": [
            "{'the': 11, 'that': 10, 'we': 9, 'to': 8, 'a': 7, 'and': 6, 'here': 6, 'of': 5, 'have': 5, 'for': 5, 'it': 5, 'in': 4, 'nation,': 3, 'dedicated': 3, 'are': 3, 'great': 3, 'so': 3, 'who': 3, 'is': 3, 'cannot': 3, 'they': 3, 'shall': 3, 'people,': 3, 'our': 2, 'on': 2, 'this': 2, 'new': 2, 'or': 2, 'nation': 2, 'can': 2, 'long': 2, 'gave': 2, 'here,': 2, 'far': 2, 'what': 2, 'us': 2, 'be': 2, 'which': 2, 'from': 2, 'these': 2, 'dead': 2, 'not': 2, 'fourscore': 1, 'seven': 1, 'years': 1, 'ago': 1, 'fathers': 1, 'brought': 1, 'forth,': 1, 'continent,': 1, 'conceived': 1, 'liberty,': 1, 'proposition': 1, 'all': 1, 'men': 1, 'created': 1, 'equal.': 1, 'now': 1, 'engaged': 1, 'civil': 1, 'war,': 1, 'testing': 1, 'whether': 1, 'any': 1, 'conceived,': 1, 'dedicated,': 1, 'endure.': 1, 'met': 1, 'battle-field': 1, 'war.': 1, 'come': 1, 'dedicate': 1, 'portion': 1, 'field,': 1, 'as': 1, 'final': 1, 'resting-place': 1, 'those': 1, 'their': 1, 'lives,': 1, 'might': 1, 'live.': 1, 'altogether': 1, 'fitting': 1, 'proper': 1, 'should': 1, 'do': 1, 'this.': 1, 'but,': 1, 'larger': 1, 'sense,': 1, 'dedicate,': 1, 'consecrate—we': 1, 'hallow—this': 1, 'ground.': 1, 'brave': 1, 'men,': 1, 'living': 1, 'dead,': 1, 'struggled': 1, 'consecrated': 1, 'above': 1, 'poor': 1, 'power': 1, 'add': 1, 'detract.': 1, 'world': 1, 'will': 1, 'little': 1, 'note,': 1, 'nor': 1, 'remember': 1, 'say': 1, 'but': 1, 'never': 1, 'forget': 1, 'did': 1, 'here.': 1, 'living,': 1, 'rather,': 1, 'unfinished': 1, 'work': 1, 'fought': 1, 'thus': 1, 'nobly': 1, 'advanced.': 1, 'rather': 1, 'task': 1, 'remaining': 1, 'before': 1, 'us—that': 1, 'honored': 1, 'take': 1, 'increased': 1, 'devotion': 1, 'cause': 1, 'last': 1, 'full': 1, 'measure': 1, 'devotion—that': 1, 'highly': 1, 'resolve': 1, 'died': 1, 'vain—that': 1, 'under': 1, 'god,': 1, 'birth': 1, 'freedom,': 1, 'government': 1, 'by': 1, 'perish': 1, 'earth.': 1}\n"
          ]
        }
      ]
    },
    {
      "cell_type": "code",
      "source": [
        "first_item = next(iter(sorted_text ))\n",
        "print(first_item)"
      ],
      "metadata": {
        "colab": {
          "base_uri": "https://localhost:8080/"
        },
        "id": "P5Ub0DpYOhyT",
        "outputId": "47ca212a-3bb0-438a-fd6b-7258c725c9ba"
      },
      "execution_count": null,
      "outputs": [
        {
          "output_type": "stream",
          "name": "stdout",
          "text": [
            "the\n"
          ]
        }
      ]
    },
    {
      "cell_type": "code",
      "source": [],
      "metadata": {
        "id": "WQJfLTGOzza3"
      },
      "execution_count": null,
      "outputs": []
    },
    {
      "cell_type": "code",
      "source": [
        "text = ''' Four score and seven years ago our fathers brought forth on this continent, a new nation, conceived in Liberty, and dedicated to the proposition that all men are created equal.\n",
        "\n",
        "Now we are engaged in a great civil war, testing whether that nation, or any nation so conceived and so dedicated, can long endure. We are met on a great battle-field of that war. We have come to dedicate a portion of that field, as a final resting place for those who here gave their lives that that nation might live. It is altogether fitting and proper that we should do this.\n",
        "\n",
        "But, in a larger sense, we can not dedicate -- we can not consecrate -- we can not hallow -- this ground. The brave men, living and dead, who struggled here, have consecrated it, far above our poor power to add or detract. The world will little note, nor long remember what we say here, but it can never forget what they did here. It is for us the living, rather, to be dedicated here to the unfinished work which they who fought here have thus far so nobly advanced. It is rather for us to be here dedicated to the great task remaining before us -- that from these honored dead we take increased devotion to that cause for which they gave the last full measure of devotion -- that we here highly resolve that these dead shall not have died in vain -- that this nation, under God, shall have a new birth of freedom -- and that government of the people, by the people, for the people, shall not perish from the earth '''"
      ],
      "metadata": {
        "id": "bpJzNp-XUoF3"
      },
      "execution_count": 4,
      "outputs": []
    },
    {
      "cell_type": "code",
      "source": [
        "text"
      ],
      "metadata": {
        "colab": {
          "base_uri": "https://localhost:8080/",
          "height": 127
        },
        "id": "Jm5cQcuHVDOL",
        "outputId": "5f835766-580d-429f-dfb8-a4194419e330"
      },
      "execution_count": 5,
      "outputs": [
        {
          "output_type": "execute_result",
          "data": {
            "text/plain": [
              "' Four score and seven years ago our fathers brought forth on this continent, a new nation, conceived in Liberty, and dedicated to the proposition that all men are created equal.\\n\\nNow we are engaged in a great civil war, testing whether that nation, or any nation so conceived and so dedicated, can long endure. We are met on a great battle-field of that war. We have come to dedicate a portion of that field, as a final resting place for those who here gave their lives that that nation might live. It is altogether fitting and proper that we should do this.\\n\\nBut, in a larger sense, we can not dedicate -- we can not consecrate -- we can not hallow -- this ground. The brave men, living and dead, who struggled here, have consecrated it, far above our poor power to add or detract. The world will little note, nor long remember what we say here, but it can never forget what they did here. It is for us the living, rather, to be dedicated here to the unfinished work which they who fought here have thus far so nobly advanced. It is rather for us to be here dedicated to the great task remaining before us -- that from these honored dead we take increased devotion to that cause for which they gave the last full measure of devotion -- that we here highly resolve that these dead shall not have died in vain -- that this nation, under God, shall have a new birth of freedom -- and that government of the people, by the people, for the people, shall not perish from the earth '"
            ],
            "application/vnd.google.colaboratory.intrinsic+json": {
              "type": "string"
            }
          },
          "metadata": {},
          "execution_count": 5
        }
      ]
    },
    {
      "cell_type": "code",
      "source": [
        "print(len(text))"
      ],
      "metadata": {
        "colab": {
          "base_uri": "https://localhost:8080/"
        },
        "id": "lfg59iafVGl5",
        "outputId": "7fa5ec22-7e99-4016-bfc7-1b63a7885e6a"
      },
      "execution_count": 6,
      "outputs": [
        {
          "output_type": "stream",
          "name": "stdout",
          "text": [
            "1476\n"
          ]
        }
      ]
    },
    {
      "cell_type": "code",
      "source": [
        "print(text.split())"
      ],
      "metadata": {
        "colab": {
          "base_uri": "https://localhost:8080/"
        },
        "id": "roIsmbuoVMFa",
        "outputId": "7f501ef4-74d5-4377-cab8-7e0288af2d21"
      },
      "execution_count": 7,
      "outputs": [
        {
          "output_type": "stream",
          "name": "stdout",
          "text": [
            "['Four', 'score', 'and', 'seven', 'years', 'ago', 'our', 'fathers', 'brought', 'forth', 'on', 'this', 'continent,', 'a', 'new', 'nation,', 'conceived', 'in', 'Liberty,', 'and', 'dedicated', 'to', 'the', 'proposition', 'that', 'all', 'men', 'are', 'created', 'equal.', 'Now', 'we', 'are', 'engaged', 'in', 'a', 'great', 'civil', 'war,', 'testing', 'whether', 'that', 'nation,', 'or', 'any', 'nation', 'so', 'conceived', 'and', 'so', 'dedicated,', 'can', 'long', 'endure.', 'We', 'are', 'met', 'on', 'a', 'great', 'battle-field', 'of', 'that', 'war.', 'We', 'have', 'come', 'to', 'dedicate', 'a', 'portion', 'of', 'that', 'field,', 'as', 'a', 'final', 'resting', 'place', 'for', 'those', 'who', 'here', 'gave', 'their', 'lives', 'that', 'that', 'nation', 'might', 'live.', 'It', 'is', 'altogether', 'fitting', 'and', 'proper', 'that', 'we', 'should', 'do', 'this.', 'But,', 'in', 'a', 'larger', 'sense,', 'we', 'can', 'not', 'dedicate', '--', 'we', 'can', 'not', 'consecrate', '--', 'we', 'can', 'not', 'hallow', '--', 'this', 'ground.', 'The', 'brave', 'men,', 'living', 'and', 'dead,', 'who', 'struggled', 'here,', 'have', 'consecrated', 'it,', 'far', 'above', 'our', 'poor', 'power', 'to', 'add', 'or', 'detract.', 'The', 'world', 'will', 'little', 'note,', 'nor', 'long', 'remember', 'what', 'we', 'say', 'here,', 'but', 'it', 'can', 'never', 'forget', 'what', 'they', 'did', 'here.', 'It', 'is', 'for', 'us', 'the', 'living,', 'rather,', 'to', 'be', 'dedicated', 'here', 'to', 'the', 'unfinished', 'work', 'which', 'they', 'who', 'fought', 'here', 'have', 'thus', 'far', 'so', 'nobly', 'advanced.', 'It', 'is', 'rather', 'for', 'us', 'to', 'be', 'here', 'dedicated', 'to', 'the', 'great', 'task', 'remaining', 'before', 'us', '--', 'that', 'from', 'these', 'honored', 'dead', 'we', 'take', 'increased', 'devotion', 'to', 'that', 'cause', 'for', 'which', 'they', 'gave', 'the', 'last', 'full', 'measure', 'of', 'devotion', '--', 'that', 'we', 'here', 'highly', 'resolve', 'that', 'these', 'dead', 'shall', 'not', 'have', 'died', 'in', 'vain', '--', 'that', 'this', 'nation,', 'under', 'God,', 'shall', 'have', 'a', 'new', 'birth', 'of', 'freedom', '--', 'and', 'that', 'government', 'of', 'the', 'people,', 'by', 'the', 'people,', 'for', 'the', 'people,', 'shall', 'not', 'perish', 'from', 'the', 'earth']\n"
          ]
        }
      ]
    },
    {
      "cell_type": "code",
      "source": [
        "print(len(text.split()))"
      ],
      "metadata": {
        "colab": {
          "base_uri": "https://localhost:8080/"
        },
        "id": "nOfLpOXyVcEb",
        "outputId": "54b340ef-0065-426e-be8f-8022946c1131"
      },
      "execution_count": 13,
      "outputs": [
        {
          "output_type": "stream",
          "name": "stdout",
          "text": [
            "8\n"
          ]
        }
      ]
    },
    {
      "cell_type": "code",
      "source": [
        "text = \"a b c a a d c b A\""
      ],
      "metadata": {
        "id": "p_HBls5iVrrz"
      },
      "execution_count": 24,
      "outputs": []
    },
    {
      "cell_type": "code",
      "source": [
        "text.split()"
      ],
      "metadata": {
        "colab": {
          "base_uri": "https://localhost:8080/"
        },
        "id": "ZmrNTdncV-jT",
        "outputId": "c795c545-3867-4d55-ace5-77627c70b113"
      },
      "execution_count": 12,
      "outputs": [
        {
          "output_type": "execute_result",
          "data": {
            "text/plain": [
              "['a', 'b', 'c', 'a', 'a', 'd', 'c', 'b']"
            ]
          },
          "metadata": {},
          "execution_count": 12
        }
      ]
    },
    {
      "cell_type": "code",
      "source": [
        "word_count = {}\n",
        "\n",
        "for word in text.split():\n",
        "  print(word)"
      ],
      "metadata": {
        "colab": {
          "base_uri": "https://localhost:8080/"
        },
        "id": "_DCg04exWElH",
        "outputId": "4893ac2d-2086-44be-b6dd-0acf0e7df87e"
      },
      "execution_count": 14,
      "outputs": [
        {
          "output_type": "stream",
          "name": "stdout",
          "text": [
            "a\n",
            "b\n",
            "c\n",
            "a\n",
            "a\n",
            "d\n",
            "c\n",
            "b\n"
          ]
        }
      ]
    },
    {
      "cell_type": "code",
      "source": [
        "word_count = {}\n",
        "for word in text.split():\n",
        "  word_count[word]=1\n",
        "print(word_count)"
      ],
      "metadata": {
        "colab": {
          "base_uri": "https://localhost:8080/"
        },
        "id": "i4une7DUWlqv",
        "outputId": "bc432912-e279-4489-ba9a-919b9c7eb08f"
      },
      "execution_count": 18,
      "outputs": [
        {
          "output_type": "stream",
          "name": "stdout",
          "text": [
            "{'a': 1, 'b': 1, 'c': 1, 'd': 1}\n"
          ]
        }
      ]
    },
    {
      "cell_type": "code",
      "source": [
        "word_count = {}\n",
        "\n",
        "for word in text.lower().split():\n",
        "  if word in word_count:\n",
        "    word_count[word] = word_count[word]+1\n",
        "  else:\n",
        "    word_count[word] =1\n",
        "\n",
        "print(word_count)   "
      ],
      "metadata": {
        "colab": {
          "base_uri": "https://localhost:8080/"
        },
        "id": "PjZgMYt1XFN6",
        "outputId": "5d63436a-bcc5-403d-ac7d-30f4363e4790"
      },
      "execution_count": 26,
      "outputs": [
        {
          "output_type": "stream",
          "name": "stdout",
          "text": [
            "{'a': 4, 'b': 2, 'c': 2, 'd': 1}\n"
          ]
        }
      ]
    },
    {
      "cell_type": "code",
      "source": [
        "text"
      ],
      "metadata": {
        "colab": {
          "base_uri": "https://localhost:8080/",
          "height": 36
        },
        "id": "3BJ1nerrX7WG",
        "outputId": "8e48bd11-23e4-4129-9b7b-fd562797f36e"
      },
      "execution_count": 23,
      "outputs": [
        {
          "output_type": "execute_result",
          "data": {
            "text/plain": [
              "'a b c a a d c b'"
            ],
            "application/vnd.google.colaboratory.intrinsic+json": {
              "type": "string"
            }
          },
          "metadata": {},
          "execution_count": 23
        }
      ]
    },
    {
      "cell_type": "code",
      "source": [],
      "metadata": {
        "id": "G91Obkb6X7Sq"
      },
      "execution_count": null,
      "outputs": []
    },
    {
      "cell_type": "code",
      "source": [
        "#gettysburg address\n",
        "text = \"Fourscore and seven years ago our fathers brought forth, on this continent, a new nation, conceived in liberty, and dedicated to the proposition that all men are created equal. Now we are engaged in a great civil war, testing whether that nation, or any nation so conceived, and so dedicated, can long endure. We are met on a great battle-field of that war. We have come to dedicate a portion of that field, as a final resting-place for those who here gave their lives, that that nation might live. It is altogether fitting and proper that we should do this. But, in a larger sense, we cannot dedicate, we cannot consecrate—we cannot hallow—this ground. The brave men, living and dead, who struggled here, have consecrated it far above our poor power to add or detract. The world will little note, nor long remember what we say here, but it can never forget what they did here. It is for us the living, rather, to be dedicated here to the unfinished work which they who fought here have thus far so nobly advanced. It is rather for us to be here dedicated to the great task remaining before us—that from these honored dead we take increased devotion to that cause for which they here gave the last full measure of devotion—that we here highly resolve that these dead shall not have died in vain—that this nation, under God, shall have a new birth of freedom, and that government of the people, by the people, for the people, shall not perish from the earth.\""
      ],
      "metadata": {
        "id": "Cp6-62GlYXcE"
      },
      "execution_count": 27,
      "outputs": []
    },
    {
      "cell_type": "code",
      "source": [
        "word_count = {}\n",
        "\n",
        "for word in text.lower().split():\n",
        "  if word in word_count:\n",
        "    word_count[word] = word_count[word]+1\n",
        "  else:\n",
        "    word_count[word] =1\n",
        "\n",
        "print(word_count)   "
      ],
      "metadata": {
        "colab": {
          "base_uri": "https://localhost:8080/"
        },
        "id": "g-gSMIhfYeUs",
        "outputId": "5bd716c1-f928-4e2e-8d8d-5ac37c5a8919"
      },
      "execution_count": 28,
      "outputs": [
        {
          "output_type": "stream",
          "name": "stdout",
          "text": [
            "{'fourscore': 1, 'and': 6, 'seven': 1, 'years': 1, 'ago': 1, 'our': 2, 'fathers': 1, 'brought': 1, 'forth,': 1, 'on': 2, 'this': 2, 'continent,': 1, 'a': 7, 'new': 2, 'nation,': 3, 'conceived': 1, 'in': 4, 'liberty,': 1, 'dedicated': 3, 'to': 8, 'the': 11, 'proposition': 1, 'that': 10, 'all': 1, 'men': 1, 'are': 3, 'created': 1, 'equal.': 1, 'now': 1, 'we': 9, 'engaged': 1, 'great': 3, 'civil': 1, 'war,': 1, 'testing': 1, 'whether': 1, 'or': 2, 'any': 1, 'nation': 2, 'so': 3, 'conceived,': 1, 'dedicated,': 1, 'can': 2, 'long': 2, 'endure.': 1, 'met': 1, 'battle-field': 1, 'of': 5, 'war.': 1, 'have': 5, 'come': 1, 'dedicate': 1, 'portion': 1, 'field,': 1, 'as': 1, 'final': 1, 'resting-place': 1, 'for': 5, 'those': 1, 'who': 3, 'here': 6, 'gave': 2, 'their': 1, 'lives,': 1, 'might': 1, 'live.': 1, 'it': 5, 'is': 3, 'altogether': 1, 'fitting': 1, 'proper': 1, 'should': 1, 'do': 1, 'this.': 1, 'but,': 1, 'larger': 1, 'sense,': 1, 'cannot': 3, 'dedicate,': 1, 'consecrate—we': 1, 'hallow—this': 1, 'ground.': 1, 'brave': 1, 'men,': 1, 'living': 1, 'dead,': 1, 'struggled': 1, 'here,': 2, 'consecrated': 1, 'far': 2, 'above': 1, 'poor': 1, 'power': 1, 'add': 1, 'detract.': 1, 'world': 1, 'will': 1, 'little': 1, 'note,': 1, 'nor': 1, 'remember': 1, 'what': 2, 'say': 1, 'but': 1, 'never': 1, 'forget': 1, 'they': 3, 'did': 1, 'here.': 1, 'us': 2, 'living,': 1, 'rather,': 1, 'be': 2, 'unfinished': 1, 'work': 1, 'which': 2, 'fought': 1, 'thus': 1, 'nobly': 1, 'advanced.': 1, 'rather': 1, 'task': 1, 'remaining': 1, 'before': 1, 'us—that': 1, 'from': 2, 'these': 2, 'honored': 1, 'dead': 2, 'take': 1, 'increased': 1, 'devotion': 1, 'cause': 1, 'last': 1, 'full': 1, 'measure': 1, 'devotion—that': 1, 'highly': 1, 'resolve': 1, 'shall': 3, 'not': 2, 'died': 1, 'vain—that': 1, 'under': 1, 'god,': 1, 'birth': 1, 'freedom,': 1, 'government': 1, 'people,': 3, 'by': 1, 'perish': 1, 'earth.': 1}\n"
          ]
        }
      ]
    },
    {
      "cell_type": "code",
      "source": [
        "sorted_text = dict(sorted(word_count.items(), key = lambda item: item[1] , reverse = True))\n",
        "print(sorted_text)"
      ],
      "metadata": {
        "colab": {
          "base_uri": "https://localhost:8080/"
        },
        "id": "WMiPcqj-Y0XP",
        "outputId": "debabf90-76b8-4e5b-e726-f4f6150649c3"
      },
      "execution_count": 32,
      "outputs": [
        {
          "output_type": "stream",
          "name": "stdout",
          "text": [
            "{'the': 11, 'that': 10, 'we': 9, 'to': 8, 'a': 7, 'and': 6, 'here': 6, 'of': 5, 'have': 5, 'for': 5, 'it': 5, 'in': 4, 'nation,': 3, 'dedicated': 3, 'are': 3, 'great': 3, 'so': 3, 'who': 3, 'is': 3, 'cannot': 3, 'they': 3, 'shall': 3, 'people,': 3, 'our': 2, 'on': 2, 'this': 2, 'new': 2, 'or': 2, 'nation': 2, 'can': 2, 'long': 2, 'gave': 2, 'here,': 2, 'far': 2, 'what': 2, 'us': 2, 'be': 2, 'which': 2, 'from': 2, 'these': 2, 'dead': 2, 'not': 2, 'fourscore': 1, 'seven': 1, 'years': 1, 'ago': 1, 'fathers': 1, 'brought': 1, 'forth,': 1, 'continent,': 1, 'conceived': 1, 'liberty,': 1, 'proposition': 1, 'all': 1, 'men': 1, 'created': 1, 'equal.': 1, 'now': 1, 'engaged': 1, 'civil': 1, 'war,': 1, 'testing': 1, 'whether': 1, 'any': 1, 'conceived,': 1, 'dedicated,': 1, 'endure.': 1, 'met': 1, 'battle-field': 1, 'war.': 1, 'come': 1, 'dedicate': 1, 'portion': 1, 'field,': 1, 'as': 1, 'final': 1, 'resting-place': 1, 'those': 1, 'their': 1, 'lives,': 1, 'might': 1, 'live.': 1, 'altogether': 1, 'fitting': 1, 'proper': 1, 'should': 1, 'do': 1, 'this.': 1, 'but,': 1, 'larger': 1, 'sense,': 1, 'dedicate,': 1, 'consecrate—we': 1, 'hallow—this': 1, 'ground.': 1, 'brave': 1, 'men,': 1, 'living': 1, 'dead,': 1, 'struggled': 1, 'consecrated': 1, 'above': 1, 'poor': 1, 'power': 1, 'add': 1, 'detract.': 1, 'world': 1, 'will': 1, 'little': 1, 'note,': 1, 'nor': 1, 'remember': 1, 'say': 1, 'but': 1, 'never': 1, 'forget': 1, 'did': 1, 'here.': 1, 'living,': 1, 'rather,': 1, 'unfinished': 1, 'work': 1, 'fought': 1, 'thus': 1, 'nobly': 1, 'advanced.': 1, 'rather': 1, 'task': 1, 'remaining': 1, 'before': 1, 'us—that': 1, 'honored': 1, 'take': 1, 'increased': 1, 'devotion': 1, 'cause': 1, 'last': 1, 'full': 1, 'measure': 1, 'devotion—that': 1, 'highly': 1, 'resolve': 1, 'died': 1, 'vain—that': 1, 'under': 1, 'god,': 1, 'birth': 1, 'freedom,': 1, 'government': 1, 'by': 1, 'perish': 1, 'earth.': 1}\n"
          ]
        }
      ]
    },
    {
      "cell_type": "code",
      "source": [
        "first_item = next(iter(sorted_text))"
      ],
      "metadata": {
        "id": "G3IgqI6cZtQc"
      },
      "execution_count": 33,
      "outputs": []
    },
    {
      "cell_type": "code",
      "source": [
        "print(first_item)"
      ],
      "metadata": {
        "colab": {
          "base_uri": "https://localhost:8080/"
        },
        "id": "4ckRvqm0Zzro",
        "outputId": "24a8233f-f1f0-47a5-953a-8b79d8313a51"
      },
      "execution_count": 34,
      "outputs": [
        {
          "output_type": "stream",
          "name": "stdout",
          "text": [
            "the\n"
          ]
        }
      ]
    }
  ]
}