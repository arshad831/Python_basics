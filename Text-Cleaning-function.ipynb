{
  "cells": [
    {
      "cell_type": "markdown",
      "metadata": {
        "id": "view-in-github",
        "colab_type": "text"
      },
      "source": [
        "<a href=\"https://colab.research.google.com/github/arshad831/Python_basics/blob/main/Text-Cleaning-function.ipynb\" target=\"_parent\"><img src=\"https://colab.research.google.com/assets/colab-badge.svg\" alt=\"Open In Colab\"/></a>"
      ]
    },
    {
      "cell_type": "markdown",
      "id": "b693252d",
      "metadata": {
        "id": "b693252d"
      },
      "source": [
        "## Variables as Functions"
      ]
    },
    {
      "cell_type": "markdown",
      "id": "5eb0b9e0",
      "metadata": {
        "id": "5eb0b9e0"
      },
      "source": [
        "### Text processing in Python"
      ]
    },
    {
      "cell_type": "code",
      "execution_count": null,
      "id": "97284f20",
      "metadata": {
        "id": "97284f20"
      },
      "outputs": [],
      "source": [
        "text = '''\n",
        "Beautiful is better than ugly.\n",
        "Explicit is better than implicit.\n",
        "Simple is better than complex.\n",
        "Complex is better than complicated.\n",
        "Flat is better than nested.\n",
        "Sparse is better than dense.\n",
        "Readability counts.\n",
        "Special cases aren't special enough to break the rules.\n",
        "Although practicality beats purity.\n",
        "Errors should never pass silently.\n",
        "Unless explicitly silenced.\n",
        "In the face of ambiguity, refuse the temptation to guess.\n",
        "There should be one-- and preferably only one --obvious way to do it.\n",
        "Although that way may not be obvious at first unless you're Dutch.\n",
        "Now is better than never.\n",
        "Although never is often better than *right* now.\n",
        "If the implementation is hard to explain, it's a bad idea.\n",
        "If the implementation is easy to explain, it may be a good idea.\n",
        "Namespaces are one honking great idea -- let's do more of those!\n",
        "'''\n"
      ]
    },
    {
      "cell_type": "code",
      "execution_count": null,
      "id": "bd899058",
      "metadata": {
        "id": "bd899058"
      },
      "outputs": [],
      "source": [
        "def lowercase(text):\n",
        "    return text.lower()\n",
        "\n",
        "def removePunctuation(text):\n",
        "    punctuations = ['.', '-', ',', '*']\n",
        "    for punctuation in punctuations:\n",
        "        text = text.replace(punctuation, '')\n",
        "    return text\n",
        "\n",
        "def removeNewlines(text):\n",
        "    text = text.replace('\\n', ' ')\n",
        "    return text\n",
        "\n",
        "def removeShortWords(text):\n",
        "    return ' '.join([word for word in text.split() if len(word) > 3])\n",
        "\n",
        "def removeLongWords(text):\n",
        "    return ' '.join([word for word in text.split() if len(word) < 6])"
      ]
    },
    {
      "cell_type": "code",
      "execution_count": null,
      "id": "4e6e3111",
      "metadata": {
        "id": "4e6e3111",
        "outputId": "e637a9c5-d040-415a-ca85-d1a396aae9ae"
      },
      "outputs": [
        {
          "name": "stdout",
          "output_type": "stream",
          "text": [
            "is than ugly is than is than is than flat is than is than dense cases to break the rules beats never pass in the face of the to guess there be one and only one way to do it that way may not be at first dutch now is than never never is often than right now if the is hard to it's a bad idea if the is easy to it may be a good idea are one great idea let's do more of\n"
          ]
        }
      ],
      "source": [
        "processingFunctions = [lowercase, removePunctuation, removeNewlines, removeLongWords]\n",
        "\n",
        "for func in processingFunctions:\n",
        "    text = func(text)\n",
        "\n",
        "print(text)"
      ]
    },
    {
      "cell_type": "code",
      "execution_count": null,
      "id": "2a87f878",
      "metadata": {
        "id": "2a87f878"
      },
      "outputs": [],
      "source": []
    }
  ],
  "metadata": {
    "kernelspec": {
      "display_name": "Python 3 (ipykernel)",
      "language": "python",
      "name": "python3"
    },
    "language_info": {
      "codemirror_mode": {
        "name": "ipython",
        "version": 3
      },
      "file_extension": ".py",
      "mimetype": "text/x-python",
      "name": "python",
      "nbconvert_exporter": "python",
      "pygments_lexer": "ipython3",
      "version": "3.10.2"
    },
    "colab": {
      "provenance": [],
      "include_colab_link": true
    }
  },
  "nbformat": 4,
  "nbformat_minor": 5
}