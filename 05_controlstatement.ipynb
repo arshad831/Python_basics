{
  "cells": [
    {
      "cell_type": "markdown",
      "id": "c2034a59",
      "metadata": {
        "id": "c2034a59"
      },
      "source": [
        "## If statements"
      ]
    },
    {
      "cell_type": "code",
      "source": [
        "x=-5\n",
        "if x>0:\n",
        "    print(x)\n",
        "    print(\"Hi Buddy!\")\n",
        "print(\"Out of if statement\")"
      ],
      "metadata": {
        "id": "YPVGZh363Sqq"
      },
      "id": "YPVGZh363Sqq",
      "execution_count": null,
      "outputs": []
    },
    {
      "cell_type": "code",
      "source": [
        "x=5\n",
        "if x%2==0:\n",
        "    print(x,\" is even\")\n",
        "else:\n",
        "    print(x,\" is odd\")\n",
        "print(\"Finally I got it predicted as an EVEN or ODD Number\")"
      ],
      "metadata": {
        "id": "BAfAosqy3SDI"
      },
      "id": "BAfAosqy3SDI",
      "execution_count": null,
      "outputs": []
    },
    {
      "cell_type": "code",
      "source": [],
      "metadata": {
        "id": "eSD36t0t3hwx"
      },
      "id": "eSD36t0t3hwx",
      "execution_count": null,
      "outputs": []
    },
    {
      "cell_type": "code",
      "execution_count": null,
      "id": "4ba398e8",
      "metadata": {
        "id": "4ba398e8"
      },
      "outputs": [],
      "source": [
        "# 1, 2, Fizz, 4, Buzz, Fizz, 7, 8, Fizz, Buzz, 11, Fizz, 13, FizzBuzz, 16\n",
        "\n",
        "for n in range(1, 101):\n",
        "    if n % 15 == 0:\n",
        "        print('FizzBuzz')\n",
        "    else:\n",
        "        if n % 3 == 0:\n",
        "            print('Fizz')\n",
        "        else:\n",
        "            if n % 5 == 0:\n",
        "                print('Buzz')\n",
        "            else:\n",
        "                print(n)"
      ]
    },
    {
      "cell_type": "markdown",
      "id": "4397b06b",
      "metadata": {
        "id": "4397b06b"
      },
      "source": [
        "### Elif statements"
      ]
    },
    {
      "cell_type": "code",
      "source": [
        "x=['banana','mango','apple']\n",
        "y=['cat','dog','goat']\n",
        "z=input('Enter the name of fruit or pet here: ').lower()\n",
        "\n",
        "if z in x:\n",
        "    print(z,'is a fruit')\n",
        "\n",
        "if z in y:\n",
        "    print(z,'is a pet')\n",
        "else:\n",
        "    print('Enter valid name')\n"
      ],
      "metadata": {
        "id": "rHpX0P-V3l1m"
      },
      "id": "rHpX0P-V3l1m",
      "execution_count": null,
      "outputs": []
    },
    {
      "cell_type": "code",
      "source": [
        "x=['banana','mango','apple']\n",
        "y=['cat','dog','goat']\n",
        "z=input('Enter the name of fruit or pet here: ')\n",
        "z1=z.lower()\n",
        "if z1 in x:\n",
        "    print(z.capitalize(),'is a fruit')\n",
        "\n",
        "elif z1 in y:\n",
        "    print(z.capitalize(),'is a pet')\n",
        "else:\n",
        "    print('Enter valid name')"
      ],
      "metadata": {
        "id": "QlalPZ0E3nzX"
      },
      "id": "QlalPZ0E3nzX",
      "execution_count": null,
      "outputs": []
    },
    {
      "cell_type": "code",
      "execution_count": null,
      "id": "9e194f71",
      "metadata": {
        "id": "9e194f71"
      },
      "outputs": [],
      "source": [
        "for n in range(1, 101):\n",
        "    if n % 15 == 0:\n",
        "        print('FizzBuzz')\n",
        "    elif n % 3 == 0:\n",
        "        print('Fizz')\n",
        "    elif n % 5 == 0:\n",
        "        print('Buzz')\n",
        "    else:\n",
        "        print(n)\n",
        "        \n"
      ]
    },
    {
      "cell_type": "markdown",
      "id": "1413eeef",
      "metadata": {
        "id": "1413eeef"
      },
      "source": [
        "### Single Line if statements"
      ]
    },
    {
      "cell_type": "code",
      "execution_count": null,
      "id": "bd670c44",
      "metadata": {
        "colab": {
          "base_uri": "https://localhost:8080/"
        },
        "id": "bd670c44",
        "outputId": "11bedb9c-b0d1-4b00-bbbe-9f54dcc0b745"
      },
      "outputs": [
        {
          "output_type": "stream",
          "name": "stdout",
          "text": [
            "5\n"
          ]
        }
      ],
      "source": [
        "n = 5\n",
        "print('Fizz' if n % 3 == 0 else n)"
      ]
    },
    {
      "cell_type": "code",
      "execution_count": null,
      "id": "30aa0ab9",
      "metadata": {
        "id": "30aa0ab9"
      },
      "outputs": [],
      "source": [
        "fizzBuzz = 'Fizz' if n % 3 == 0 else n"
      ]
    },
    {
      "cell_type": "code",
      "execution_count": null,
      "id": "8c657dbc",
      "metadata": {
        "id": "8c657dbc",
        "outputId": "53d89eac-de57-4bd3-eb70-2c551d0da667"
      },
      "outputs": [
        {
          "data": {
            "text/plain": [
              "'Buzz'"
            ]
          },
          "execution_count": 12,
          "metadata": {},
          "output_type": "execute_result"
        }
      ],
      "source": [
        "'Fizz' if n % 3 == 0 else 'Buzz' if n % 5 == 0 else n"
      ]
    },
    {
      "cell_type": "code",
      "execution_count": null,
      "id": "ac92cbb1",
      "metadata": {
        "colab": {
          "base_uri": "https://localhost:8080/",
          "height": 36
        },
        "id": "ac92cbb1",
        "outputId": "295f3a20-e5ca-4dad-d6af-e60c726b926c"
      },
      "outputs": [
        {
          "output_type": "execute_result",
          "data": {
            "text/plain": [
              "'Buzz'"
            ],
            "application/vnd.google.colaboratory.intrinsic+json": {
              "type": "string"
            }
          },
          "metadata": {},
          "execution_count": 4
        }
      ],
      "source": [
        "'FizzBuzz' if n % 15 == 0 else 'Fizz' if n % 3 == 0 else 'Buzz' if n % 5 == 0 else n"
      ]
    },
    {
      "cell_type": "markdown",
      "source": [
        "for loop\n"
      ],
      "metadata": {
        "id": "kDFfIWu71Td0"
      },
      "id": "kDFfIWu71Td0"
    },
    {
      "cell_type": "code",
      "source": [
        "days = ['Monday', 'Tuesday', 'Wednesday', 'Thursday', 'Friday']\n",
        "\n",
        "for x in days:\n",
        "    print(x)"
      ],
      "metadata": {
        "id": "0ofSFNRp1TNR"
      },
      "id": "0ofSFNRp1TNR",
      "execution_count": null,
      "outputs": []
    },
    {
      "cell_type": "code",
      "source": [],
      "metadata": {
        "id": "hkBpGm0h1uX0"
      },
      "id": "hkBpGm0h1uX0",
      "execution_count": null,
      "outputs": []
    },
    {
      "cell_type": "code",
      "source": [
        "a_list = ['Monday', 'Tuesday', 'Wednesday', 'Thursday', 'Friday']\n",
        "\n",
        "for i in range(len(a_list)):\n",
        "    print('The value at position {} is {}.'.format(i, a_list[i]))"
      ],
      "metadata": {
        "colab": {
          "base_uri": "https://localhost:8080/",
          "height": 189
        },
        "id": "ITIxVmLw1VT5",
        "outputId": "e6944eb9-163c-4e53-b10a-6ab3a1b9550a"
      },
      "id": "ITIxVmLw1VT5",
      "execution_count": null,
      "outputs": [
        {
          "output_type": "error",
          "ename": "NameError",
          "evalue": "ignored",
          "traceback": [
            "\u001b[0;31m---------------------------------------------------------------------------\u001b[0m",
            "\u001b[0;31mNameError\u001b[0m                                 Traceback (most recent call last)",
            "\u001b[0;32m<ipython-input-5-488601b74d6f>\u001b[0m in \u001b[0;36m<module>\u001b[0;34m\u001b[0m\n\u001b[0;32m----> 1\u001b[0;31m \u001b[0;32mfor\u001b[0m \u001b[0mi\u001b[0m\u001b[0;34m,\u001b[0m \u001b[0mval\u001b[0m \u001b[0;32min\u001b[0m \u001b[0menumerate\u001b[0m\u001b[0;34m(\u001b[0m\u001b[0ma_list\u001b[0m\u001b[0;34m)\u001b[0m\u001b[0;34m:\u001b[0m\u001b[0;34m\u001b[0m\u001b[0;34m\u001b[0m\u001b[0m\n\u001b[0m\u001b[1;32m      2\u001b[0m     \u001b[0mprint\u001b[0m\u001b[0;34m(\u001b[0m\u001b[0;34m'The value at position {} is {}.'\u001b[0m\u001b[0;34m.\u001b[0m\u001b[0mformat\u001b[0m\u001b[0;34m(\u001b[0m\u001b[0mi\u001b[0m\u001b[0;34m,\u001b[0m \u001b[0mval\u001b[0m\u001b[0;34m)\u001b[0m\u001b[0;34m)\u001b[0m\u001b[0;34m\u001b[0m\u001b[0;34m\u001b[0m\u001b[0m\n",
            "\u001b[0;31mNameError\u001b[0m: name 'a_list' is not defined"
          ]
        }
      ]
    },
    {
      "cell_type": "code",
      "source": [
        "weekdays = ['Monday', 'Tuesday', 'Wednesday', 'Thursday', 'Friday']"
      ],
      "metadata": {
        "id": "sZwm1HOo2Smv"
      },
      "id": "sZwm1HOo2Smv",
      "execution_count": null,
      "outputs": []
    },
    {
      "cell_type": "code",
      "source": [
        "for day in weekdays:\n",
        "    print('Today is {}'.format(day))\n",
        "    if (day == 'Wednesday'):\n",
        "        print(\"I don't work beyond Wednesday!\")\n",
        "        break"
      ],
      "metadata": {
        "id": "50JoOY0L1g_E"
      },
      "id": "50JoOY0L1g_E",
      "execution_count": null,
      "outputs": []
    },
    {
      "cell_type": "code",
      "source": [
        "for day in weekdays:\n",
        "    if (day == 'Wednesday'):\n",
        "        print(\"I don't work on Wednesday!\")\n",
        "        continue\n",
        "    print('Today is {}'.format(day))"
      ],
      "metadata": {
        "id": "_Iizq-nH1kps"
      },
      "id": "_Iizq-nH1kps",
      "execution_count": null,
      "outputs": []
    },
    {
      "cell_type": "code",
      "source": [],
      "metadata": {
        "id": "l8ENil62192o"
      },
      "id": "l8ENil62192o",
      "execution_count": null,
      "outputs": []
    },
    {
      "cell_type": "markdown",
      "source": [
        "While loop\n"
      ],
      "metadata": {
        "id": "ZUD45uTh0y0x"
      },
      "id": "ZUD45uTh0y0x"
    },
    {
      "cell_type": "code",
      "execution_count": null,
      "id": "aab21dd3",
      "metadata": {
        "id": "aab21dd3"
      },
      "outputs": [],
      "source": [
        "i=0\n",
        "while i<6:\n",
        "    print(1)\n",
        "    i=i+1"
      ]
    },
    {
      "cell_type": "code",
      "source": [],
      "metadata": {
        "id": "YeCRyE2D2onI"
      },
      "id": "YeCRyE2D2onI",
      "execution_count": null,
      "outputs": []
    },
    {
      "cell_type": "code",
      "execution_count": null,
      "id": "84dfc5c8",
      "metadata": {
        "colab": {
          "base_uri": "https://localhost:8080/"
        },
        "id": "84dfc5c8",
        "outputId": "5a8193c2-74d2-4b4b-fda7-a1d961db20ed"
      },
      "outputs": [
        {
          "output_type": "stream",
          "name": "stdout",
          "text": [
            "1\n",
            "2\n",
            "3\n"
          ]
        }
      ],
      "source": [
        "i = 1\n",
        "while i < 6:\n",
        "  print(i)\n",
        "  if (i == 3):\n",
        "    break\n",
        "  i += 1"
      ]
    },
    {
      "cell_type": "code",
      "source": [
        "i = 0\n",
        "while i < 6:\n",
        "  i += 1\n",
        "  if i == 3:\n",
        "    continue\n",
        "  print(i)"
      ],
      "metadata": {
        "id": "AOfOrAeV2i-Y"
      },
      "id": "AOfOrAeV2i-Y",
      "execution_count": null,
      "outputs": []
    }
  ],
  "metadata": {
    "kernelspec": {
      "display_name": "Python 3 (ipykernel)",
      "language": "python",
      "name": "python3"
    },
    "language_info": {
      "codemirror_mode": {
        "name": "ipython",
        "version": 3
      },
      "file_extension": ".py",
      "mimetype": "text/x-python",
      "name": "python",
      "nbconvert_exporter": "python",
      "pygments_lexer": "ipython3",
      "version": "3.10.2"
    },
    "colab": {
      "provenance": []
    }
  },
  "nbformat": 4,
  "nbformat_minor": 5
}
