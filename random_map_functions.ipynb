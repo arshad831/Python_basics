{
  "cells": [
    {
      "cell_type": "markdown",
      "metadata": {
        "id": "view-in-github",
        "colab_type": "text"
      },
      "source": [
        "<a href=\"https://colab.research.google.com/github/arshad831/Python_basics/blob/main/random_map_functions.ipynb\" target=\"_parent\"><img src=\"https://colab.research.google.com/assets/colab-badge.svg\" alt=\"Open In Colab\"/></a>"
      ]
    },
    {
      "cell_type": "markdown",
      "source": [
        "# Session 5 -- Miscellaneous Topics in Python"
      ],
      "metadata": {
        "id": "An0vDtHcJdxC"
      }
    },
    {
      "cell_type": "markdown",
      "source": [
        "## Random Module in Python\n",
        "You can generate random numbers in Python by using random module.\n",
        "\n",
        "Python offers random module that can generate random numbers.\n",
        "\n",
        "These are pseudo-random number as the sequence of number generated depends on the seed.\n",
        "\n",
        "Almost all module functions depend on the basic function random(), which generates a random float uniformly in the semi-open range [0.0, 1.0)."
      ],
      "metadata": {
        "id": "zK9zJ9dsMFHZ"
      }
    },
    {
      "cell_type": "code",
      "source": [
        "import random        # import the random module from python\n",
        "print(random.random())    # use random from random module to generate any random number between 0 and 1"
      ],
      "metadata": {
        "colab": {
          "base_uri": "https://localhost:8080/"
        },
        "id": "OsyC07ulMS10",
        "outputId": "7563018d-7afa-4f3c-af9a-39b972765b41"
      },
      "execution_count": null,
      "outputs": [
        {
          "output_type": "stream",
          "name": "stdout",
          "text": [
            "0.5425109803497764\n"
          ]
        }
      ]
    },
    {
      "cell_type": "code",
      "source": [
        "print(random.random())"
      ],
      "metadata": {
        "colab": {
          "base_uri": "https://localhost:8080/"
        },
        "id": "1AjMCtHrNtzF",
        "outputId": "46b810af-d43c-498b-d84c-2995f0ddb0fa"
      },
      "execution_count": null,
      "outputs": [
        {
          "output_type": "stream",
          "name": "stdout",
          "text": [
            "0.23198878828680392\n"
          ]
        }
      ]
    },
    {
      "cell_type": "markdown",
      "source": [
        "Every time you run the code and yoy will get different random number\n",
        "\n",
        "To get the fixed random number every time use seed( )"
      ],
      "metadata": {
        "id": "A-Jh3i20M_ZX"
      }
    },
    {
      "cell_type": "code",
      "source": [
        "random.seed(2)\n",
        "print(random.random())"
      ],
      "metadata": {
        "colab": {
          "base_uri": "https://localhost:8080/"
        },
        "id": "It4AjbnpMS4x",
        "outputId": "13a37359-56a8-4518-8235-af33f264391b"
      },
      "execution_count": null,
      "outputs": [
        {
          "output_type": "stream",
          "name": "stdout",
          "text": [
            "0.9560342718892494\n"
          ]
        }
      ]
    },
    {
      "cell_type": "code",
      "source": [
        "random.seed(2)\n",
        "print(random.random())"
      ],
      "metadata": {
        "colab": {
          "base_uri": "https://localhost:8080/"
        },
        "id": "csVLVNmzMS8f",
        "outputId": "3082ad61-58a7-4b12-a168-decffb2e80a0"
      },
      "execution_count": null,
      "outputs": [
        {
          "output_type": "stream",
          "name": "stdout",
          "text": [
            "0.9560342718892494\n"
          ]
        }
      ]
    },
    {
      "cell_type": "markdown",
      "source": [
        "**randint(a, b)** -- Returns a random integer between a and b inclusive"
      ],
      "metadata": {
        "id": "GCw7G05YN-_M"
      }
    },
    {
      "cell_type": "code",
      "source": [
        "random.randint(1,20)"
      ],
      "metadata": {
        "id": "-QQlPXz2MS_3"
      },
      "execution_count": null,
      "outputs": []
    },
    {
      "cell_type": "code",
      "source": [
        "random.randint(21,100)"
      ],
      "metadata": {
        "id": "ZSv0N8MFMTDD"
      },
      "execution_count": null,
      "outputs": []
    },
    {
      "cell_type": "code",
      "source": [
        "random.seed(4)\n",
        "random.randint(1,20)"
      ],
      "metadata": {
        "id": "O4mlvLn2MTGj"
      },
      "execution_count": null,
      "outputs": []
    },
    {
      "cell_type": "code",
      "source": [
        "random.seed(500)\n",
        "random.randint(21,100)"
      ],
      "metadata": {
        "id": "n125ioX8MTpy"
      },
      "execution_count": null,
      "outputs": []
    },
    {
      "cell_type": "markdown",
      "source": [
        "**randrange(start, stop[, step])** -- Returns a random integer from the range"
      ],
      "metadata": {
        "id": "LMpIZhKnOi9D"
      }
    },
    {
      "cell_type": "code",
      "source": [
        "random.randrange(1,20,5)"
      ],
      "metadata": {
        "id": "HhsQXd9FMTxY"
      },
      "execution_count": null,
      "outputs": []
    },
    {
      "cell_type": "code",
      "source": [
        "random.randrange(0,200,10)"
      ],
      "metadata": {
        "id": "XXpQc8p_MT5E"
      },
      "execution_count": null,
      "outputs": []
    },
    {
      "cell_type": "markdown",
      "source": [
        "**choice(seq)** -- Return a random element from the non-empty sequence"
      ],
      "metadata": {
        "id": "Ggh6RAPCPN8F"
      }
    },
    {
      "cell_type": "code",
      "source": [
        "random.choice(['win', 'lose', 'draw'])"
      ],
      "metadata": {
        "id": "r3JIKbBBMUA5"
      },
      "execution_count": null,
      "outputs": []
    },
    {
      "cell_type": "code",
      "source": [
        "random.choice(['win', 'lose', 'draw'])"
      ],
      "metadata": {
        "id": "B2m12QA3MUJE"
      },
      "execution_count": null,
      "outputs": []
    },
    {
      "cell_type": "code",
      "source": [
        "random.choice(['win', 'lose', 'draw'])"
      ],
      "metadata": {
        "id": "BOmN_96cMUPo"
      },
      "execution_count": null,
      "outputs": []
    },
    {
      "cell_type": "code",
      "source": [
        "random.choice([1,2,3,4,5,6,7,8,9])"
      ],
      "metadata": {
        "id": "RidLC-6lPYw3"
      },
      "execution_count": null,
      "outputs": []
    },
    {
      "cell_type": "code",
      "source": [
        "random.choice([1,2,3,4,5,6,7,8,9])"
      ],
      "metadata": {
        "id": "uhzbJyG_PY4Y"
      },
      "execution_count": null,
      "outputs": []
    },
    {
      "cell_type": "markdown",
      "source": [
        "**choices( )**\n",
        "\n",
        "The choices( ) method returns a list with the randomly selected element from the specified sequence.\n",
        "\n",
        "You can weigh the possibility of each result with the weights parameter or the cum_weights parameter.\n",
        "\n",
        "The sequence can be a string, a range, a list, a tuple or any other kind of sequence.\n",
        "\n",
        "```\n",
        "Syntax\n",
        "random.choices(sequence, weights=None, cum_weights=None, k=1)\n",
        "\n",
        "\n",
        "\n",
        "sequence -- Required. A sequence like a list, a tuple, a range of numbers etc.\n",
        "weights -- Optional. A list were you can weigh the possibility for each value.\n",
        "Default None\n",
        "cum_weights -- Optional. A list were you can weigh the possibility for each value, only this time the possibility is accumulated.\n",
        "\n",
        "Example: normal weights list: [2, 1, 1] is the same as this cum_weights list; [2, 3, 4].\n",
        "Default None\n",
        "\n",
        "k -- Optional. An integer defining the length of the returned list\n",
        "\n",
        "```\n"
      ],
      "metadata": {
        "id": "2g_R2TuzQVvt"
      }
    },
    {
      "cell_type": "code",
      "source": [
        "mylist = [\"apple\", \"banana\", \"cherry\"]\n",
        "\n",
        "print(random.choices(mylist, weights = [10, 1, 1], k = 15))"
      ],
      "metadata": {
        "id": "g5EhRbXIPZBA"
      },
      "execution_count": null,
      "outputs": []
    },
    {
      "cell_type": "code",
      "source": [
        "mylist=['hi','hello']\n",
        "print(random.choices(mylist,weights=[5,1], k=10))"
      ],
      "metadata": {
        "id": "FyaKZQ3mPZJW"
      },
      "execution_count": null,
      "outputs": []
    },
    {
      "cell_type": "markdown",
      "source": [
        "**sample()**\n",
        "\n",
        "sample() is an inbuilt function of random module in Python that returns a particular length list of items chosen from the sequence i.e. list, tuple, string or set. Used for random sampling without replacement.\n",
        "```\n",
        "    Syntax : random.sample(sequence, k)\n",
        "\n",
        "    Parameters:\n",
        "    sequence: Can be a list, tuple, string, or set.\n",
        "    k: An Integer value, it specify the length of a sample.\n",
        "\n",
        "    Returns: k length new list of elements chosen from the sequence.\n",
        "```"
      ],
      "metadata": {
        "id": "vQt5vZAIR-op"
      }
    },
    {
      "cell_type": "code",
      "source": [
        "# Prints list of random items of given length\n",
        "list1 = [1, 2, 3, 4, 5]\n",
        "\n",
        "print(random.sample(list1,3))"
      ],
      "metadata": {
        "id": "oKtncX7fPZRG"
      },
      "execution_count": null,
      "outputs": []
    },
    {
      "cell_type": "code",
      "source": [
        "#  Prints list of random items of\n",
        "# length 3 from the given list.\n",
        "list1 = [1, 2, 3, 4, 5, 6]\n",
        "print(\"With list:\", random.sample(list1, 3))"
      ],
      "metadata": {
        "id": "h6hgIHg-PZZY"
      },
      "execution_count": null,
      "outputs": []
    },
    {
      "cell_type": "code",
      "source": [
        "# Prints list of random items of\n",
        "# length 4 from the given string.\n",
        "string = \"Board Infinity\"\n",
        "print(\"With string:\", random.sample(string, 4))"
      ],
      "metadata": {
        "id": "0iLmuQC4PZhk"
      },
      "execution_count": null,
      "outputs": []
    },
    {
      "cell_type": "code",
      "source": [
        "# Prints list of random items of\n",
        "# length 4 from the given tuple.\n",
        "tuple1 = (\"ankit\", \"Amish\", \"computer\", \"science\",\"Pizza\", \"scientist\", \"btech\")\n",
        "print(\"With tuple:\", random.sample(tuple1, 4))"
      ],
      "metadata": {
        "id": "lg2KYN5lPZle"
      },
      "execution_count": null,
      "outputs": []
    },
    {
      "cell_type": "code",
      "source": [
        "# Prints list of random items of\n",
        "# length 3 from the given set.\n",
        "set1 = {\"a\", \"b\", \"c\", \"d\", \"e\"}\n",
        "print(\"With set:\", random.sample(set1, 3))"
      ],
      "metadata": {
        "id": "CHHys7p5PZs4"
      },
      "execution_count": null,
      "outputs": []
    },
    {
      "cell_type": "markdown",
      "source": [
        "## String Module in Python\n",
        "The string module contains a number of functions to process standard Python strings.\n",
        "\n",
        "Python String module contains some constants, utility function, and classes for string manipulation.\n",
        "\n",
        "\n"
      ],
      "metadata": {
        "id": "8n8w_BRA1dS5"
      }
    },
    {
      "cell_type": "code",
      "source": [
        "import string\n",
        "\n",
        "# string module constants\n",
        "# 1. The set of all letters, essentially a union of ascii_lowercase and ascii_uppercase.\n",
        "print('string.ascii_letters --->>',string.ascii_letters)\n",
        "\n",
        "# 2. The lowercase letters in the ASCII character set: 'abcdefghijklmnopqrstuvwxyz'.\n",
        "print('string.ascii_lowercase --->>', string.ascii_lowercase)\n",
        "\n",
        "# 3. The uppercase letters in the ASCII character set: 'ABCDEFGHIJKLMNOPQRSTUVWXYZ'\n",
        "print('string.ascii_uppercase --->>', string.ascii_uppercase)\n",
        "\n",
        "# 4. The digits used to make decimal numbers: '0123456789'\n",
        "print('string.digits --->>', string.digits)\n",
        "\n",
        "# 5. The digits used to make hexadecimal numbers: '0123456789abcdefABCDEF'\n",
        "print('string.hexdigits --->>', string.hexdigits)\n",
        "\n",
        "# 6. A collection of characters that cause spacing to happen. For ASCII this is '\\t\\n\\x0b\\x0c\\r '\n",
        "print('string.whitespace --->>', string.whitespace)  # ' \\t\\n\\r\\x0b\\x0c'\n",
        "\n",
        "\n",
        "# 7. All punctuation in the ASCII character set, this is '!\"#$%&\\'()*+,-./:;<=>?@[\\\\]^_`{|}~'\n",
        "print('string.punctuation --->>', string.punctuation)"
      ],
      "metadata": {
        "id": "O30ePDv3PZwX"
      },
      "execution_count": null,
      "outputs": []
    },
    {
      "cell_type": "code",
      "source": [
        "a=['a','b','c']\n",
        "''.join(['a','b','c'])"
      ],
      "metadata": {
        "id": "EhAwDeGyBGOL"
      },
      "execution_count": null,
      "outputs": []
    },
    {
      "cell_type": "code",
      "source": [
        "# generate strong random passwords of given size.\n",
        "# Importing random to generate\n",
        "# random string sequence\n",
        "import random\n",
        "# Importing string library function\n",
        "import string\n",
        "\n",
        "def rand_pass(size):\n",
        "    # Takes random choices from\n",
        "    # ascii_letters and digits\n",
        "    generate_pass = ''.join([random.choice(\n",
        "                        string.ascii_letters + string.digits)\n",
        "                        for n in range(size)])\n",
        "\n",
        "    return generate_pass\n",
        "\n",
        "# Driver Code\n",
        "password = rand_pass(6)\n",
        "print(password)"
      ],
      "metadata": {
        "id": "u1yJ7Za1PZ4L",
        "colab": {
          "base_uri": "https://localhost:8080/"
        },
        "outputId": "c24db20a-5d08-4d24-aaf3-c67ac94219ea"
      },
      "execution_count": null,
      "outputs": [
        {
          "output_type": "stream",
          "name": "stdout",
          "text": [
            "IcM4Ax\n"
          ]
        }
      ]
    },
    {
      "cell_type": "code",
      "source": [
        "rand_pass(10)"
      ],
      "metadata": {
        "id": "mr4jGXTNPZ7v"
      },
      "execution_count": null,
      "outputs": []
    },
    {
      "cell_type": "code",
      "source": [
        "# Write a Python program to remove unwanted characters from a given string.\n",
        "# Original String : Pyth*^on Exercis^es\n",
        "# After removing unwanted characters: Python Exercises\n",
        "\n",
        "import string\n",
        "Original_String = 'Pyth*^on Exercis^es$'\n",
        "for i in Original_String:\n",
        "    if i in string.punctuation:\n",
        "        pass\n",
        "\n",
        "    else:\n",
        "        print(i,end='')\n"
      ],
      "metadata": {
        "colab": {
          "base_uri": "https://localhost:8080/"
        },
        "id": "Bl3QdMqRDusV",
        "outputId": "13a14e4b-c7d7-4ff4-ea70-ad9e8f8fadcf"
      },
      "execution_count": null,
      "outputs": [
        {
          "output_type": "stream",
          "name": "stdout",
          "text": [
            "Python Exercises"
          ]
        }
      ]
    },
    {
      "cell_type": "markdown",
      "metadata": {
        "id": "kgIWcQwo4TLK"
      },
      "source": [
        "## MAP( )"
      ]
    },
    {
      "cell_type": "markdown",
      "metadata": {
        "id": "FIgbPIoq4TLK"
      },
      "source": [
        "The map() function applies a given function to each item of an iterable (list, tuple etc.) and returns an iterator.\n",
        "\n",
        "**map() Syntax**\n",
        "    \n",
        "    map(function, iterable, ...)\n",
        "   \n",
        ""
      ]
    },
    {
      "cell_type": "code",
      "execution_count": null,
      "metadata": {
        "id": "28iZqy8g4TLK"
      },
      "outputs": [],
      "source": [
        "numbers = [2, 4, 6, 8, 10]\n",
        "\n",
        "# returns square of a number\n",
        "def square(number):\n",
        "  return number * number\n",
        "\n",
        "# apply square() function to each item of the numbers list\n",
        "squared_numbers_iterator = map(square, numbers)\n",
        "\n",
        "# converting to list\n",
        "squared_numbers = tuple(squared_numbers_iterator)\n",
        "print(squared_numbers)\n",
        "\n",
        "# Output: [4, 16, 36, 64, 100]"
      ]
    },
    {
      "cell_type": "code",
      "execution_count": null,
      "metadata": {
        "id": "vu3-JoZx4TLK"
      },
      "outputs": [],
      "source": [
        "def sum_of_first_n_natuaral_numbers(n):\n",
        "    sum = ((n) * (n+1)) // 2\n",
        "    print(sum)\n",
        "\n",
        "\n",
        "n = int(input())\n",
        "sum_of_first_n_natuaral_numbers(n)\n"
      ]
    },
    {
      "cell_type": "markdown",
      "source": [
        "Using map( ) data types of the elements of the iterables can be changed easily"
      ],
      "metadata": {
        "id": "Yj4D_KuPATAV"
      }
    },
    {
      "cell_type": "code",
      "source": [
        "a=['1','2','3']\n",
        "a=list(map(int,a))"
      ],
      "metadata": {
        "id": "iYzinN43AepX"
      },
      "execution_count": null,
      "outputs": []
    },
    {
      "cell_type": "code",
      "source": [
        "a"
      ],
      "metadata": {
        "id": "Rnrt7C10AnMF"
      },
      "execution_count": null,
      "outputs": []
    },
    {
      "cell_type": "code",
      "source": [
        "a=list(map(float,a))\n",
        "a"
      ],
      "metadata": {
        "id": "uUk3mg17Aod_"
      },
      "execution_count": null,
      "outputs": []
    },
    {
      "cell_type": "markdown",
      "source": [
        "## Lambda( )\n",
        "\n",
        "In Python, an anonymous function is a function that is defined without a name.\n",
        "\n",
        "While normal functions are defined using the def keyword in Python, anonymous functions are defined using the lambda keyword.\n",
        "\n",
        "Hence, anonymous functions are also called lambda functions.\n",
        "\n",
        "\n",
        "```\n",
        "Syntax\n",
        "\n",
        "lambda arguments: expression\n",
        "```\n",
        "\n",
        "Lambda functions can have any number of arguments but only one expression. The expression is evaluated and returned. Lambda functions can be used wherever function objects are required.\n",
        "\n"
      ],
      "metadata": {
        "id": "Eu0n03b6A_MR"
      }
    },
    {
      "cell_type": "code",
      "source": [
        "def double_number(number):\n",
        "    y=number*2\n",
        "    return y"
      ],
      "metadata": {
        "id": "671n4d_gMysM"
      },
      "execution_count": null,
      "outputs": []
    },
    {
      "cell_type": "code",
      "source": [
        "double_number(15.5)"
      ],
      "metadata": {
        "id": "AZ3yBHIAM-2o"
      },
      "execution_count": null,
      "outputs": []
    },
    {
      "cell_type": "code",
      "source": [
        "# Program to show the use of lambda functions\n",
        "double = lambda x: x * 2\n",
        "\n",
        "print(double(150.5))"
      ],
      "metadata": {
        "id": "IVR8Jv0aA2Vb"
      },
      "execution_count": null,
      "outputs": []
    },
    {
      "cell_type": "markdown",
      "source": [
        "We use lambda functions when we require a nameless function for a short period of time.\n",
        "\n",
        "In Python, we generally use it as an argument to a higher-order function (a function that takes in other functions as arguments). Lambda functions are used along with built-in functions like filter(), map() etc."
      ],
      "metadata": {
        "id": "HikXJyX5Bo3P"
      }
    },
    {
      "cell_type": "markdown",
      "source": [
        "The filter() function in Python takes in a function and a list as arguments.\n",
        "\n",
        "The function is called with all the items in the list and a new list is returned which contains items for which the function evaluates to True.\n",
        "\n",
        "Here is an example use of filter() function to filter out only even numbers from a list."
      ],
      "metadata": {
        "id": "PPY24hXpBvqn"
      }
    },
    {
      "cell_type": "code",
      "source": [
        "# Program to filter out only the even items from a list\n",
        "my_list = [1, 5, 4, 6, 8, 11, 3, 12]\n",
        "\n",
        "# Filter syntax\n",
        "# fliter(lambda function,iterable)\n",
        "\n",
        "new_list = list(filter(lambda x: (x%2 == 0) , my_list))\n",
        "\n",
        "print(new_list)"
      ],
      "metadata": {
        "id": "6DwmHtJlBfJB"
      },
      "execution_count": null,
      "outputs": []
    },
    {
      "cell_type": "code",
      "source": [
        "# Program to double each item in a list using map()\n",
        "\n",
        "my_list = [1, 5, 4, 6, 8, 11, 3, 12]\n",
        "\n",
        "new_list = list(map(lambda x: x * 2 , my_list))\n",
        "\n",
        "print(new_list)"
      ],
      "metadata": {
        "id": "xNd16ycbBywf"
      },
      "execution_count": null,
      "outputs": []
    },
    {
      "cell_type": "code",
      "source": [],
      "metadata": {
        "id": "8_8uKC7WB4lE"
      },
      "execution_count": null,
      "outputs": []
    }
  ],
  "metadata": {
    "kernelspec": {
      "display_name": "Python 3",
      "language": "python",
      "name": "python3"
    },
    "language_info": {
      "codemirror_mode": {
        "name": "ipython",
        "version": 3
      },
      "file_extension": ".py",
      "mimetype": "text/x-python",
      "name": "python",
      "nbconvert_exporter": "python",
      "pygments_lexer": "ipython3",
      "version": "3.8.3"
    },
    "toc": {
      "base_numbering": 1,
      "nav_menu": {},
      "number_sections": true,
      "sideBar": true,
      "skip_h1_title": false,
      "title_cell": "Table of Contents",
      "title_sidebar": "Contents",
      "toc_cell": false,
      "toc_position": {},
      "toc_section_display": true,
      "toc_window_display": false
    },
    "colab": {
      "provenance": [],
      "include_colab_link": true
    }
  },
  "nbformat": 4,
  "nbformat_minor": 0
}